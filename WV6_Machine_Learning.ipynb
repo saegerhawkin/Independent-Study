{
 "cells": [
  {
   "cell_type": "markdown",
   "metadata": {},
   "source": [
    "# World Value Survey Machine Learning #\n",
    "The purpose of this project is to ..."
   ]
  },
  {
   "cell_type": "code",
   "execution_count": 1,
   "metadata": {},
   "outputs": [],
   "source": [
    "import numpy as np\n",
    "import pandas as pd\n",
    "import matplotlib.pyplot as plt\n",
    "%matplotlib inline\n",
    "import seaborn as sns\n",
    "import plotly.graph_objects as go\n",
    "\n",
    "from sklearn.model_selection import train_test_split\n",
    "from sklearn.ensemble import RandomForestRegressor\n",
    "from sklearn.linear_model import LogisticRegression"
   ]
  },
  {
   "cell_type": "code",
   "execution_count": 2,
   "metadata": {},
   "outputs": [],
   "source": [
    "df = pd.read_csv('data/WV6_Data_CSV.csv')"
   ]
  },
  {
   "cell_type": "code",
   "execution_count": 3,
   "metadata": {},
   "outputs": [
    {
     "data": {
      "text/plain": [
       "(89565, 440)"
      ]
     },
     "execution_count": 3,
     "metadata": {},
     "output_type": "execute_result"
    }
   ],
   "source": [
    "#How big is the dataframe?\n",
    "df.shape"
   ]
  },
  {
   "cell_type": "markdown",
   "metadata": {},
   "source": [
    "### Countries ### \n",
    "The countries would have a lot of different aspects or perspectives on predicting life satisfaction. I am going to first focus on the United States. At one point I may generalize the code to be able to work for any country code input."
   ]
  },
  {
   "cell_type": "code",
   "execution_count": 4,
   "metadata": {},
   "outputs": [
    {
     "data": {
      "text/html": [
       "<div>\n",
       "<style scoped>\n",
       "    .dataframe tbody tr th:only-of-type {\n",
       "        vertical-align: middle;\n",
       "    }\n",
       "\n",
       "    .dataframe tbody tr th {\n",
       "        vertical-align: top;\n",
       "    }\n",
       "\n",
       "    .dataframe thead th {\n",
       "        text-align: right;\n",
       "    }\n",
       "</style>\n",
       "<table border=\"1\" class=\"dataframe\">\n",
       "  <thead>\n",
       "    <tr style=\"text-align: right;\">\n",
       "      <th></th>\n",
       "      <th>V1</th>\n",
       "      <th>V2</th>\n",
       "      <th>V2A</th>\n",
       "      <th>V3</th>\n",
       "      <th>V4</th>\n",
       "      <th>V5</th>\n",
       "      <th>V6</th>\n",
       "      <th>V7</th>\n",
       "      <th>V8</th>\n",
       "      <th>V9</th>\n",
       "      <th>...</th>\n",
       "      <th>VOICE</th>\n",
       "      <th>WEIGHT4B</th>\n",
       "      <th>S001</th>\n",
       "      <th>S007</th>\n",
       "      <th>S018</th>\n",
       "      <th>S019</th>\n",
       "      <th>S021</th>\n",
       "      <th>S024</th>\n",
       "      <th>S025</th>\n",
       "      <th>COW</th>\n",
       "    </tr>\n",
       "  </thead>\n",
       "  <tbody>\n",
       "    <tr>\n",
       "      <th>0</th>\n",
       "      <td>6</td>\n",
       "      <td>840</td>\n",
       "      <td>840</td>\n",
       "      <td>48</td>\n",
       "      <td>1</td>\n",
       "      <td>2</td>\n",
       "      <td>1</td>\n",
       "      <td>2</td>\n",
       "      <td>1</td>\n",
       "      <td>2</td>\n",
       "      <td>...</td>\n",
       "      <td>0.165</td>\n",
       "      <td>1.0</td>\n",
       "      <td>2</td>\n",
       "      <td>-1</td>\n",
       "      <td>0.286738</td>\n",
       "      <td>0.430107</td>\n",
       "      <td>NaN</td>\n",
       "      <td>8406</td>\n",
       "      <td>8402011</td>\n",
       "      <td>2</td>\n",
       "    </tr>\n",
       "    <tr>\n",
       "      <th>1</th>\n",
       "      <td>6</td>\n",
       "      <td>840</td>\n",
       "      <td>840</td>\n",
       "      <td>49</td>\n",
       "      <td>1</td>\n",
       "      <td>1</td>\n",
       "      <td>2</td>\n",
       "      <td>3</td>\n",
       "      <td>3</td>\n",
       "      <td>4</td>\n",
       "      <td>...</td>\n",
       "      <td>0.415</td>\n",
       "      <td>1.0</td>\n",
       "      <td>2</td>\n",
       "      <td>-1</td>\n",
       "      <td>0.824373</td>\n",
       "      <td>1.236559</td>\n",
       "      <td>NaN</td>\n",
       "      <td>8406</td>\n",
       "      <td>8402011</td>\n",
       "      <td>2</td>\n",
       "    </tr>\n",
       "    <tr>\n",
       "      <th>2</th>\n",
       "      <td>6</td>\n",
       "      <td>840</td>\n",
       "      <td>840</td>\n",
       "      <td>50</td>\n",
       "      <td>1</td>\n",
       "      <td>3</td>\n",
       "      <td>1</td>\n",
       "      <td>3</td>\n",
       "      <td>2</td>\n",
       "      <td>3</td>\n",
       "      <td>...</td>\n",
       "      <td>0.415</td>\n",
       "      <td>1.0</td>\n",
       "      <td>2</td>\n",
       "      <td>-1</td>\n",
       "      <td>1.048387</td>\n",
       "      <td>1.572581</td>\n",
       "      <td>NaN</td>\n",
       "      <td>8406</td>\n",
       "      <td>8402011</td>\n",
       "      <td>2</td>\n",
       "    </tr>\n",
       "    <tr>\n",
       "      <th>3</th>\n",
       "      <td>6</td>\n",
       "      <td>840</td>\n",
       "      <td>840</td>\n",
       "      <td>51</td>\n",
       "      <td>1</td>\n",
       "      <td>2</td>\n",
       "      <td>2</td>\n",
       "      <td>2</td>\n",
       "      <td>2</td>\n",
       "      <td>1</td>\n",
       "      <td>...</td>\n",
       "      <td>0.165</td>\n",
       "      <td>1.0</td>\n",
       "      <td>2</td>\n",
       "      <td>-1</td>\n",
       "      <td>0.224014</td>\n",
       "      <td>0.336022</td>\n",
       "      <td>NaN</td>\n",
       "      <td>8406</td>\n",
       "      <td>8402011</td>\n",
       "      <td>2</td>\n",
       "    </tr>\n",
       "    <tr>\n",
       "      <th>4</th>\n",
       "      <td>6</td>\n",
       "      <td>840</td>\n",
       "      <td>840</td>\n",
       "      <td>52</td>\n",
       "      <td>1</td>\n",
       "      <td>1</td>\n",
       "      <td>1</td>\n",
       "      <td>2</td>\n",
       "      <td>-2</td>\n",
       "      <td>1</td>\n",
       "      <td>...</td>\n",
       "      <td>0.165</td>\n",
       "      <td>1.0</td>\n",
       "      <td>2</td>\n",
       "      <td>-1</td>\n",
       "      <td>0.129928</td>\n",
       "      <td>0.194892</td>\n",
       "      <td>NaN</td>\n",
       "      <td>8406</td>\n",
       "      <td>8402011</td>\n",
       "      <td>2</td>\n",
       "    </tr>\n",
       "    <tr>\n",
       "      <th>...</th>\n",
       "      <td>...</td>\n",
       "      <td>...</td>\n",
       "      <td>...</td>\n",
       "      <td>...</td>\n",
       "      <td>...</td>\n",
       "      <td>...</td>\n",
       "      <td>...</td>\n",
       "      <td>...</td>\n",
       "      <td>...</td>\n",
       "      <td>...</td>\n",
       "      <td>...</td>\n",
       "      <td>...</td>\n",
       "      <td>...</td>\n",
       "      <td>...</td>\n",
       "      <td>...</td>\n",
       "      <td>...</td>\n",
       "      <td>...</td>\n",
       "      <td>...</td>\n",
       "      <td>...</td>\n",
       "      <td>...</td>\n",
       "      <td>...</td>\n",
       "    </tr>\n",
       "    <tr>\n",
       "      <th>2211</th>\n",
       "      <td>6</td>\n",
       "      <td>840</td>\n",
       "      <td>840</td>\n",
       "      <td>2359</td>\n",
       "      <td>1</td>\n",
       "      <td>2</td>\n",
       "      <td>2</td>\n",
       "      <td>4</td>\n",
       "      <td>1</td>\n",
       "      <td>3</td>\n",
       "      <td>...</td>\n",
       "      <td>0.415</td>\n",
       "      <td>1.0</td>\n",
       "      <td>2</td>\n",
       "      <td>-1</td>\n",
       "      <td>0.448029</td>\n",
       "      <td>0.672043</td>\n",
       "      <td>NaN</td>\n",
       "      <td>8406</td>\n",
       "      <td>8402011</td>\n",
       "      <td>2</td>\n",
       "    </tr>\n",
       "    <tr>\n",
       "      <th>2212</th>\n",
       "      <td>6</td>\n",
       "      <td>840</td>\n",
       "      <td>840</td>\n",
       "      <td>2360</td>\n",
       "      <td>1</td>\n",
       "      <td>2</td>\n",
       "      <td>2</td>\n",
       "      <td>4</td>\n",
       "      <td>1</td>\n",
       "      <td>1</td>\n",
       "      <td>...</td>\n",
       "      <td>0.500</td>\n",
       "      <td>1.0</td>\n",
       "      <td>2</td>\n",
       "      <td>-1</td>\n",
       "      <td>1.129032</td>\n",
       "      <td>1.693548</td>\n",
       "      <td>NaN</td>\n",
       "      <td>8406</td>\n",
       "      <td>8402011</td>\n",
       "      <td>2</td>\n",
       "    </tr>\n",
       "    <tr>\n",
       "      <th>2213</th>\n",
       "      <td>6</td>\n",
       "      <td>840</td>\n",
       "      <td>840</td>\n",
       "      <td>2361</td>\n",
       "      <td>1</td>\n",
       "      <td>1</td>\n",
       "      <td>1</td>\n",
       "      <td>4</td>\n",
       "      <td>2</td>\n",
       "      <td>1</td>\n",
       "      <td>...</td>\n",
       "      <td>0.000</td>\n",
       "      <td>1.0</td>\n",
       "      <td>2</td>\n",
       "      <td>-1</td>\n",
       "      <td>0.465950</td>\n",
       "      <td>0.698925</td>\n",
       "      <td>NaN</td>\n",
       "      <td>8406</td>\n",
       "      <td>8402011</td>\n",
       "      <td>2</td>\n",
       "    </tr>\n",
       "    <tr>\n",
       "      <th>2214</th>\n",
       "      <td>6</td>\n",
       "      <td>840</td>\n",
       "      <td>840</td>\n",
       "      <td>2362</td>\n",
       "      <td>4</td>\n",
       "      <td>4</td>\n",
       "      <td>4</td>\n",
       "      <td>4</td>\n",
       "      <td>4</td>\n",
       "      <td>4</td>\n",
       "      <td>...</td>\n",
       "      <td>0.580</td>\n",
       "      <td>1.0</td>\n",
       "      <td>2</td>\n",
       "      <td>-1</td>\n",
       "      <td>0.430107</td>\n",
       "      <td>0.645161</td>\n",
       "      <td>NaN</td>\n",
       "      <td>8406</td>\n",
       "      <td>8402011</td>\n",
       "      <td>2</td>\n",
       "    </tr>\n",
       "    <tr>\n",
       "      <th>2215</th>\n",
       "      <td>6</td>\n",
       "      <td>840</td>\n",
       "      <td>840</td>\n",
       "      <td>2363</td>\n",
       "      <td>1</td>\n",
       "      <td>1</td>\n",
       "      <td>1</td>\n",
       "      <td>1</td>\n",
       "      <td>2</td>\n",
       "      <td>1</td>\n",
       "      <td>...</td>\n",
       "      <td>0.330</td>\n",
       "      <td>1.0</td>\n",
       "      <td>2</td>\n",
       "      <td>-1</td>\n",
       "      <td>0.291219</td>\n",
       "      <td>0.436828</td>\n",
       "      <td>NaN</td>\n",
       "      <td>8406</td>\n",
       "      <td>8402011</td>\n",
       "      <td>2</td>\n",
       "    </tr>\n",
       "  </tbody>\n",
       "</table>\n",
       "<p>2216 rows × 440 columns</p>\n",
       "</div>"
      ],
      "text/plain": [
       "      V1   V2  V2A    V3  V4  V5  V6  V7  V8  V9  ...  VOICE  WEIGHT4B  S001  \\\n",
       "0      6  840  840    48   1   2   1   2   1   2  ...  0.165       1.0     2   \n",
       "1      6  840  840    49   1   1   2   3   3   4  ...  0.415       1.0     2   \n",
       "2      6  840  840    50   1   3   1   3   2   3  ...  0.415       1.0     2   \n",
       "3      6  840  840    51   1   2   2   2   2   1  ...  0.165       1.0     2   \n",
       "4      6  840  840    52   1   1   1   2  -2   1  ...  0.165       1.0     2   \n",
       "...   ..  ...  ...   ...  ..  ..  ..  ..  ..  ..  ...    ...       ...   ...   \n",
       "2211   6  840  840  2359   1   2   2   4   1   3  ...  0.415       1.0     2   \n",
       "2212   6  840  840  2360   1   2   2   4   1   1  ...  0.500       1.0     2   \n",
       "2213   6  840  840  2361   1   1   1   4   2   1  ...  0.000       1.0     2   \n",
       "2214   6  840  840  2362   4   4   4   4   4   4  ...  0.580       1.0     2   \n",
       "2215   6  840  840  2363   1   1   1   1   2   1  ...  0.330       1.0     2   \n",
       "\n",
       "      S007      S018      S019  S021  S024     S025  COW  \n",
       "0       -1  0.286738  0.430107   NaN  8406  8402011    2  \n",
       "1       -1  0.824373  1.236559   NaN  8406  8402011    2  \n",
       "2       -1  1.048387  1.572581   NaN  8406  8402011    2  \n",
       "3       -1  0.224014  0.336022   NaN  8406  8402011    2  \n",
       "4       -1  0.129928  0.194892   NaN  8406  8402011    2  \n",
       "...    ...       ...       ...   ...   ...      ...  ...  \n",
       "2211    -1  0.448029  0.672043   NaN  8406  8402011    2  \n",
       "2212    -1  1.129032  1.693548   NaN  8406  8402011    2  \n",
       "2213    -1  0.465950  0.698925   NaN  8406  8402011    2  \n",
       "2214    -1  0.430107  0.645161   NaN  8406  8402011    2  \n",
       "2215    -1  0.291219  0.436828   NaN  8406  8402011    2  \n",
       "\n",
       "[2216 rows x 440 columns]"
      ]
     },
     "execution_count": 4,
     "metadata": {},
     "output_type": "execute_result"
    }
   ],
   "source": [
    "# Remove all countries except the United States\n",
    "df = df[(df['V2']==840)]\n",
    "# Remove instances where V23 is null, not answered, or other.\n",
    "df = df[df['V23'] > 0]\n",
    "\n",
    "df.reset_index(drop=True)"
   ]
  },
  {
   "cell_type": "code",
   "execution_count": 5,
   "metadata": {},
   "outputs": [],
   "source": [
    "# Check what columns are in the dataset\n",
    "# for i in df.columns:\n",
    "#     print(i)"
   ]
  },
  {
   "cell_type": "code",
   "execution_count": 6,
   "metadata": {},
   "outputs": [
    {
     "data": {
      "text/plain": [
       "array([840091, 840093, 840071, 840055, 840023, 840014, 840032, 840084,\n",
       "       840034, 840092, 840058, 840035, 840045, 840046, 840064, 840021,\n",
       "       840063, 840031, 840052, 840022, 840043, 840074, 840088, 840015,\n",
       "       840056, 840033, 840042, 840086, 840083, 840059, 840011, 840087,\n",
       "       840072, 840054, 840062, 840041, 840085, 840073, 840082, 840061,\n",
       "       840051, 840016, 840057, 840047, 840053, 840012, 840044, 840081,\n",
       "       840013, 840094, 840095], dtype=int64)"
      ]
     },
     "execution_count": 6,
     "metadata": {},
     "output_type": "execute_result"
    }
   ],
   "source": [
    "#Check unique values in column to see if it should be deleted\n",
    "df['V256B'].unique()"
   ]
  },
  {
   "cell_type": "markdown",
   "metadata": {},
   "source": [
    "### Dropping columns \n",
    "I am dropping a lot of columns in the next section of code. This is because a lot of the questions in the survey are only asked at certain countries. The United States isn't asked every single part. When the question isn't asked it leaves me with a column full of the value '-4' which won't do anything for the machine learning methods. That is why they are going to removed to narrow the dataset. \n",
    "\n",
    "Also removing more columns in the cell after because I only want to look at the variables that begin with V which are the normally asked survey questions."
   ]
  },
  {
   "cell_type": "code",
   "execution_count": 7,
   "metadata": {},
   "outputs": [],
   "source": [
    "#Drop columns not wanted in this analysis\n",
    "drop_list = ['V2A','V44_ES','V56_NZ','V74B','V125_00','V125_01','V125_02','V125_03','V125_04','V125_06','V125_07',\n",
    "            'V125_08','V125_09','V125_10','V125_11','V125_12','V125_13','V125_14','V125_15','V125_16','V125_17',\n",
    "            'V160A','V160B','V160C','V160D','V160E','V160F','V160G','V160H','V160I','V160J','V203A','V215_01','V215_02',\n",
    "            'V215_03','V215_04','V215_05','V215_06','V215_08','V215_10','V215_11','V215_12','V215_13','V215_14',\n",
    "             'V215_15','V215_16','V215_17','V215_18','V217_ESMA','V218_ESMA','V219_ESMA','V220_ESMA','V221_ESMA',\n",
    "             'V222_ESMA','V223_ESMA','V224_ESMA', 'V228_2','V228A','V228B','V228C','V228D','V228E','V228F','V228G',\n",
    "             'V228H','V228I','V228J','V228K', 'V243_AU', 'V244_AU','V253','V253_CS','V256C']\n",
    "\n",
    "df.drop(drop_list, axis=1, inplace=True)"
   ]
  },
  {
   "cell_type": "code",
   "execution_count": 8,
   "metadata": {},
   "outputs": [],
   "source": [
    "#Removing all columns that don't begin with V, and removing Voice\n",
    "cols = [c for c in df.columns if (c.upper()[:1] == 'V') & (c.upper()!='VOICE')]\n",
    "df = df[cols]"
   ]
  },
  {
   "cell_type": "code",
   "execution_count": 9,
   "metadata": {},
   "outputs": [],
   "source": [
    "#Check what columns are now in the dataset\n",
    "# for i in df.columns:\n",
    "#     print(i)"
   ]
  },
  {
   "cell_type": "code",
   "execution_count": 10,
   "metadata": {},
   "outputs": [
    {
     "data": {
      "text/plain": [
       "(2216, 265)"
      ]
     },
     "execution_count": 10,
     "metadata": {},
     "output_type": "execute_result"
    }
   ],
   "source": [
    "df.shape"
   ]
  },
  {
   "cell_type": "markdown",
   "metadata": {},
   "source": [
    "### Target Variable ###\n",
    "The code below is separating my target variable from the dataset. I will be trying to predict life satisfaction. The actualy wording of the question is \"Satisfaction with your life:\" and the options range on a scale from 1-10 with 1 being completely dissatisfied and 10 being completely satisfied. "
   ]
  },
  {
   "cell_type": "code",
   "execution_count": 11,
   "metadata": {},
   "outputs": [],
   "source": [
    "#Create target variable - Life satisfactions\n",
    "target = df['V23']\n",
    "\n",
    "model_df = df.copy(deep=True)\n",
    "#drop target from predictor data\n",
    "model_df.drop(['V23'], axis=1, inplace=True)"
   ]
  },
  {
   "cell_type": "code",
   "execution_count": 12,
   "metadata": {},
   "outputs": [],
   "source": [
    "# Setting the random seed so the results of tests are always the same. Others should be able to replicate them\n",
    "np.random.seed(12978)\n",
    "# Create train data and test data\n",
    "x_train, x_test, y_train, y_test = train_test_split(model_df, target, train_size=0.8)"
   ]
  },
  {
   "cell_type": "code",
   "execution_count": 13,
   "metadata": {},
   "outputs": [
    {
     "name": "stdout",
     "output_type": "stream",
     "text": [
      "Training data shapes (1772, 264) (1772,)\n",
      "Testing data shapes (444, 264) (444,)\n"
     ]
    }
   ],
   "source": [
    "print(\"Training data shapes\", x_train.shape, y_train.shape)\n",
    "print(\"Testing data shapes\", x_test.shape, y_test.shape)"
   ]
  },
  {
   "cell_type": "markdown",
   "metadata": {},
   "source": [
    " ### What features are important for the predictor? ### \n",
    "When running the above feature importance we get these ten values as being the most important predictors for the random forest model. However, two of them that appeared should be removed as options. V10 is a question about happiness and is far to similar to life satisfaction. V3 is the interview number which would lead our model to have a perfect training set, but not do as well on the test data when using that. I am going to remove both of these variables.  "
   ]
  },
  {
   "cell_type": "code",
   "execution_count": 14,
   "metadata": {},
   "outputs": [],
   "source": [
    "#drop certain columns we don't want as predictors\n",
    "model_df.drop(['V10', 'V3'], axis=1, inplace=True)"
   ]
  },
  {
   "cell_type": "code",
   "execution_count": 15,
   "metadata": {},
   "outputs": [],
   "source": [
    "np.random.seed(12978)\n",
    "# Create train data and test data\n",
    "x_train, x_test, y_train, y_test = train_test_split(model_df, target, train_size=0.8)"
   ]
  },
  {
   "cell_type": "code",
   "execution_count": 16,
   "metadata": {},
   "outputs": [
    {
     "data": {
      "text/plain": [
       "RandomForestRegressor(bootstrap=True, ccp_alpha=0.0, criterion='mse',\n",
       "                      max_depth=None, max_features='auto', max_leaf_nodes=None,\n",
       "                      max_samples=None, min_impurity_decrease=0.0,\n",
       "                      min_impurity_split=None, min_samples_leaf=1,\n",
       "                      min_samples_split=2, min_weight_fraction_leaf=0.0,\n",
       "                      n_estimators=100, n_jobs=None, oob_score=False,\n",
       "                      random_state=8675309, verbose=0, warm_start=False)"
      ]
     },
     "execution_count": 16,
     "metadata": {},
     "output_type": "execute_result"
    }
   ],
   "source": [
    "# Training the Model\n",
    "rf_model = RandomForestRegressor(n_estimators=100, random_state=8675309)\n",
    "\n",
    "rf_model.fit(x_train, y_train)"
   ]
  },
  {
   "cell_type": "code",
   "execution_count": 17,
   "metadata": {},
   "outputs": [
    {
     "data": {
      "text/html": [
       "<div>\n",
       "<style scoped>\n",
       "    .dataframe tbody tr th:only-of-type {\n",
       "        vertical-align: middle;\n",
       "    }\n",
       "\n",
       "    .dataframe tbody tr th {\n",
       "        vertical-align: top;\n",
       "    }\n",
       "\n",
       "    .dataframe thead th {\n",
       "        text-align: right;\n",
       "    }\n",
       "</style>\n",
       "<table border=\"1\" class=\"dataframe\">\n",
       "  <thead>\n",
       "    <tr style=\"text-align: right;\">\n",
       "      <th></th>\n",
       "      <th>Gini-importance</th>\n",
       "    </tr>\n",
       "  </thead>\n",
       "  <tbody>\n",
       "    <tr>\n",
       "      <th>V59</th>\n",
       "      <td>0.215503</td>\n",
       "    </tr>\n",
       "    <tr>\n",
       "      <th>V55</th>\n",
       "      <td>0.150730</td>\n",
       "    </tr>\n",
       "    <tr>\n",
       "      <th>V11</th>\n",
       "      <td>0.045485</td>\n",
       "    </tr>\n",
       "    <tr>\n",
       "      <th>V56</th>\n",
       "      <td>0.014936</td>\n",
       "    </tr>\n",
       "    <tr>\n",
       "      <th>V4</th>\n",
       "      <td>0.012084</td>\n",
       "    </tr>\n",
       "    <tr>\n",
       "      <th>V256B</th>\n",
       "      <td>0.007871</td>\n",
       "    </tr>\n",
       "    <tr>\n",
       "      <th>V102</th>\n",
       "      <td>0.007740</td>\n",
       "    </tr>\n",
       "    <tr>\n",
       "      <th>V249</th>\n",
       "      <td>0.007510</td>\n",
       "    </tr>\n",
       "    <tr>\n",
       "      <th>V70</th>\n",
       "      <td>0.007019</td>\n",
       "    </tr>\n",
       "    <tr>\n",
       "      <th>V159</th>\n",
       "      <td>0.006893</td>\n",
       "    </tr>\n",
       "  </tbody>\n",
       "</table>\n",
       "</div>"
      ],
      "text/plain": [
       "       Gini-importance\n",
       "V59           0.215503\n",
       "V55           0.150730\n",
       "V11           0.045485\n",
       "V56           0.014936\n",
       "V4            0.012084\n",
       "V256B         0.007871\n",
       "V102          0.007740\n",
       "V249          0.007510\n",
       "V70           0.007019\n",
       "V159          0.006893"
      ]
     },
     "execution_count": 17,
     "metadata": {},
     "output_type": "execute_result"
    }
   ],
   "source": [
    "# a blank dictionary to hold feature_name: feature_importance\n",
    "feats = {} \n",
    "#create dictionary\n",
    "for feature, importance in zip(x_train.columns, rf_model.feature_importances_):\n",
    "    feats[feature] = importance #add the key and value\n",
    "\n",
    "# turn importances to dataframe and sort by importance\n",
    "importances = pd.DataFrame.from_dict(feats, orient='index').rename(columns={0: 'Gini-importance'})\n",
    "importances = importances.sort_values(by='Gini-importance', ascending=False)\n",
    "\n",
    "importances.head(10)"
   ]
  },
  {
   "cell_type": "markdown",
   "metadata": {},
   "source": [
    "### What features are important? ###\n",
    "- V55: How much freedom of choice and control over own life?\n",
    "- V59: Satisfaction with financial situation of household\n",
    "- V11: State of health (subjective)\n",
    "- V56: Do you tihnk most people would try to take advantage of you if they got a chance, or would they try to be fair?\n",
    "- V58: How many children do you have?\n",
    "- V4: Important in life: family\n",
    "- V9: Important in life: religion\n",
    "- V256B: Region where interview was conducted (2)\n",
    "- V83: Past two years: Participated in demonstration for environment\n",
    "- V213: I see myself as part of my local community"
   ]
  },
  {
   "cell_type": "markdown",
   "metadata": {},
   "source": [
    "### Permutation Importance ###\n",
    "I found another measure of feature importance for testing which variables are important in predicting variable V23(life satisfaction). This code came from https://scikit-learn.org/stable/auto_examples/inspection/plot_permutation_importance.html#sphx-glr-auto-examples-inspection-plot-permutation-importance-py"
   ]
  },
  {
   "cell_type": "code",
   "execution_count": 18,
   "metadata": {},
   "outputs": [],
   "source": [
    "from sklearn.inspection import permutation_importance\n",
    "\n",
    "result = permutation_importance(rf_model, x_test, y_test, n_repeats=10, random_state=42, n_jobs=2)\n",
    "sorted_idx = result.importances_mean.argsort()\n",
    "top10 = sorted_idx[:10]"
   ]
  },
  {
   "cell_type": "code",
   "execution_count": 19,
   "metadata": {},
   "outputs": [
    {
     "data": {
      "image/png": "[encoded data removed]",
      "text/plain": [
       "<Figure size 432x288 with 1 Axes>"
      ]
     },
     "metadata": {
      "needs_background": "light"
     },
     "output_type": "display_data"
    }
   ],
   "source": [
    "#Graph for Permutation Importance\n",
    "fig, ax = plt.subplots()\n",
    "ax.boxplot(result.importances[top10].T, vert=False, labels=x_test.columns[top10])\n",
    "ax.set_title(\"Permutation Importances (test set)\")\n",
    "fig.tight_layout()\n",
    "plt.show()"
   ]
  },
  {
   "cell_type": "code",
   "execution_count": 25,
   "metadata": {},
   "outputs": [],
   "source": [
    "# Narrow down to top ### selectors\n",
    "keep = ['V55', 'V59', 'V11', 'V56', 'V58', 'V4', 'V9', 'V256B', 'V83', 'V213']\n",
    "model_df = model_df[keep]"
   ]
  },
  {
   "cell_type": "markdown",
   "metadata": {},
   "source": [
    "### Random Forest Model ###\n",
    "Now that I have selected features, I am going to create a random forest model to predict V23"
   ]
  },
  {
   "cell_type": "code",
   "execution_count": null,
   "metadata": {},
   "outputs": [],
   "source": []
  },
  {
   "cell_type": "markdown",
   "metadata": {},
   "source": [
    "### Logistic Regression Model ### \n",
    "I am going to classify V23 into three separate categories, unsatisfied, neutral, and satisfied with life. Then I am going to make a logistic regression model to predict these categories."
   ]
  },
  {
   "cell_type": "code",
   "execution_count": 22,
   "metadata": {},
   "outputs": [
    {
     "data": {
      "text/plain": [
       "Text(0.5, 1.0, 'Histogram of V23')"
      ]
     },
     "execution_count": 22,
     "metadata": {},
     "output_type": "execute_result"
    },
    {
     "data": {
      "image/png": "[encoded data removed]",
      "text/plain": [
       "<Figure size 432x288 with 1 Axes>"
      ]
     },
     "metadata": {
      "needs_background": "light"
     },
     "output_type": "display_data"
    }
   ],
   "source": [
    "ax = sns.countplot(x=\"V23\", data=df, color='green')\n",
    "plt.xlabel('Satisfaction Score')\n",
    "plt.ylabel('Frequency')\n",
    "plt.title('Histogram of V23')"
   ]
  },
  {
   "cell_type": "code",
   "execution_count": 23,
   "metadata": {},
   "outputs": [
    {
     "name": "stdout",
     "output_type": "stream",
     "text": [
      "78255    1\n",
      "78256    1\n",
      "78257    1\n",
      "78258    1\n",
      "78259    2\n",
      "        ..\n",
      "80482    2\n",
      "80483    1\n",
      "80484    2\n",
      "80485    0\n",
      "80486    2\n",
      "Name: V23, Length: 2216, dtype: int64\n"
     ]
    }
   ],
   "source": [
    "binned_target = target.copy(deep=True)\n",
    "\n",
    "binned_target.loc[(binned_target<6)] = 0\n",
    "binned_target.loc[(binned_target>=6) & (binned_target<=8)] = 1\n",
    "binned_target.loc[(binned_target>8)] = 2\n",
    "print(binned_target)"
   ]
  },
  {
   "cell_type": "code",
   "execution_count": 24,
   "metadata": {},
   "outputs": [
    {
     "data": {
      "text/plain": [
       "Text(0.5, 1.0, 'Histogram of Binned V23')"
      ]
     },
     "execution_count": 24,
     "metadata": {},
     "output_type": "execute_result"
    },
    {
     "data": {
      "image/png": "[encoded data removed]",
      "text/plain": [
       "<Figure size 432x288 with 1 Axes>"
      ]
     },
     "metadata": {
      "needs_background": "light"
     },
     "output_type": "display_data"
    }
   ],
   "source": [
    "ax = sns.countplot(x=binned_target, data=binned_target, color='green')\n",
    "plt.xlabel('Satisfaction Score')\n",
    "plt.ylabel('Frequency')\n",
    "plt.title('Histogram of Binned V23')"
   ]
  },
  {
   "cell_type": "code",
   "execution_count": 27,
   "metadata": {},
   "outputs": [],
   "source": [
    "logistic_model = LogisticRegression(random_state=8675309).fit(model_df, binned_target)"
   ]
  },
  {
   "cell_type": "code",
   "execution_count": null,
   "metadata": {},
   "outputs": [],
   "source": []
  }
 ],
 "metadata": {
  "kernelspec": {
   "display_name": "Python 3",
   "language": "python",
   "name": "python3"
  },
  "language_info": {
   "codemirror_mode": {
    "name": "ipython",
    "version": 3
   },
   "file_extension": ".py",
   "mimetype": "text/x-python",
   "name": "python",
   "nbconvert_exporter": "python",
   "pygments_lexer": "ipython3",
   "version": "3.7.6"
  }
 },
 "nbformat": 4,
 "nbformat_minor": 4
}
