{
 "cells": [
  {
   "cell_type": "markdown",
   "metadata": {},
   "source": [
    "# World Value Survey Machine Learning #\n",
    "The purpose of this project is to create models that are able to explain the variable V23 in the United States.\n",
    "This is the wording of the V23 questions: <br> <i>\"All things considered, how satisfied are you with your life as a whole these days? Using this card on\n",
    "which 1 means you are “completely dissatisfied” and 10 means you are “completely satisfied”\n",
    "where would you put your satisfaction with your life as a whole?\" </i> <br>\n",
    "\n",
    "Essentially I am looking at what is important to people's life satisfcation in the United States. You can find more information about the survey at the link <a href=\"http://www.worldvaluessurvey.org/wvs.jsp\">here. </a>"
   ]
  },
  {
   "cell_type": "code",
   "execution_count": 33,
   "metadata": {},
   "outputs": [],
   "source": [
    "#import necessary packages\n",
    "import numpy as np\n",
    "import pandas as pd\n",
    "import matplotlib.pyplot as plt\n",
    "%matplotlib inline\n",
    "import seaborn as sns\n",
    "import plotly.graph_objects as go\n",
    "\n",
    "from factor_analyzer import FactorAnalyzer, analyze\n",
    "from sklearn.model_selection import train_test_split\n",
    "from sklearn.ensemble import RandomForestRegressor\n",
    "from sklearn.linear_model import LogisticRegression\n",
    "from sklearn.metrics import confusion_matrix\n",
    "from sklearn.metrics import accuracy_score \n",
    "from sklearn.metrics import classification_report \n",
    "from sklearn.metrics import plot_confusion_matrix"
   ]
  },
  {
   "cell_type": "code",
   "execution_count": 2,
   "metadata": {},
   "outputs": [],
   "source": [
    "# read in dataset from the World Values Survey\n",
    "df = pd.read_csv('data/WV6_Data_CSV.csv')"
   ]
  },
  {
   "cell_type": "code",
   "execution_count": 3,
   "metadata": {},
   "outputs": [
    {
     "data": {
      "text/plain": [
       "(89565, 440)"
      ]
     },
     "execution_count": 3,
     "metadata": {},
     "output_type": "execute_result"
    }
   ],
   "source": [
    "#How big is the dataframe?\n",
    "df.shape"
   ]
  },
  {
   "cell_type": "markdown",
   "metadata": {},
   "source": [
    "### Countries ### \n",
    "The countries would have a lot of different aspects or perspectives on predicting life satisfaction. Like I mentioned I am first focusing on the United States. "
   ]
  },
  {
   "cell_type": "code",
   "execution_count": 4,
   "metadata": {},
   "outputs": [],
   "source": [
    "# Remove all countries except the United States\n",
    "df = df[(df['V2']==840)]\n",
    "# Remove instances where V23 is null, not answered, or other. This is our target we need it filled in\n",
    "df = df[df['V23'] > 0]"
   ]
  },
  {
   "cell_type": "markdown",
   "metadata": {},
   "source": [
    "## Data Reduction ##\n",
    "I am first going to eliminate columns with bad values. Then I am going to look through the survey and take out unrelated questions and questions with values that are hard to quantify. Then I am going to do some factor analysis to combine variables and reduce the size of the dataset further."
   ]
  },
  {
   "cell_type": "code",
   "execution_count": 5,
   "metadata": {},
   "outputs": [
    {
     "data": {
      "text/plain": [
       "array([840091, 840093, 840071, 840055, 840023, 840014, 840032, 840084,\n",
       "       840034, 840092, 840058, 840035, 840045, 840046, 840064, 840021,\n",
       "       840063, 840031, 840052, 840022, 840043, 840074, 840088, 840015,\n",
       "       840056, 840033, 840042, 840086, 840083, 840059, 840011, 840087,\n",
       "       840072, 840054, 840062, 840041, 840085, 840073, 840082, 840061,\n",
       "       840051, 840016, 840057, 840047, 840053, 840012, 840044, 840081,\n",
       "       840013, 840094, 840095], dtype=int64)"
      ]
     },
     "execution_count": 5,
     "metadata": {},
     "output_type": "execute_result"
    }
   ],
   "source": [
    "#Check unique values in column to see if it should be deleted\n",
    "df['V256B'].unique()"
   ]
  },
  {
   "cell_type": "markdown",
   "metadata": {},
   "source": [
    "### Dropping columns \n",
    "I am dropping a lot of columns in the next section of code. This is because a lot of the questions in the survey are only asked at certain countries. The United States isn't asked every single part. When the question isn't asked it leaves me with a column full of the value '-4' which won't do anything for the machine learning methods. That is why they are going to removed to narrow the dataset. \n",
    "\n",
    "Also removing more columns in the cell after because I only want to look at the variables that begin with V which are the normally asked survey questions."
   ]
  },
  {
   "cell_type": "code",
   "execution_count": 6,
   "metadata": {},
   "outputs": [],
   "source": [
    "#Drop columns not wanted in this analysis\n",
    "drop_list = ['V2A','V44_ES','V56_NZ','V74B','V125_00','V125_01','V125_02','V125_03','V125_04','V125_05','V125_06','V125_07',\n",
    "            'V125_08','V125_09','V125_10','V125_11','V125_12','V125_13','V125_14','V125_15','V125_16','V125_17',\n",
    "            'V160A','V160B','V160C','V160D','V160E','V160F','V160G','V160H','V160I','V160J','V203A','V207A','V215_01','V215_02',\n",
    "            'V215_03','V215_04','V215_05','V215_06','V215_07','V215_08','V215_10','V215_11','V215_12','V215_13','V215_14',\n",
    "             'V215_15','V215_16','V215_17','V215_18','V217_ESMA','V218_ESMA','V219_ESMA','V220_ESMA','V221_ESMA',\n",
    "             'V222_ESMA','V223_ESMA','V224_ESMA', 'V228_2','V228A','V228B','V228C','V228D','V228E','V228F','V228G',\n",
    "             'V228H','V228I','V228J','V228K', 'V243_AU', 'V244_AU','V248_CS','V253','V253_CS','V256C']\n",
    "\n",
    "df.drop(drop_list, axis=1, inplace=True)"
   ]
  },
  {
   "cell_type": "code",
   "execution_count": 7,
   "metadata": {},
   "outputs": [],
   "source": [
    "#Removing all columns that don't begin with V, and removing Voice\n",
    "cols = [c for c in df.columns if (c.upper()[:1] == 'V') & (c.upper()!='VOICE')]\n",
    "df = df[cols]"
   ]
  },
  {
   "cell_type": "markdown",
   "metadata": {},
   "source": [
    "### Dropping more columns ### \n",
    "I am dropping more columbs besides the ones that are null. Here are the reasons for them\n",
    " - V1: Don't need wave number, all 6\n",
    " - V2: Country Code - should be only US\n",
    " - V3: Interview number, don't need, would mess up predictions\n",
    " - V10: Happines is too closely related to life satisfaction, removing\n",
    " - V12-22: Categories they could mention, don't want these\\\n",
    " - V36-V44: Hypothetical who do you not want as a neighbor questions\n",
    " - V60-69: Importance of political decisions for the future\n",
    " - V80: List of problems, hard to use\n",
    " - V81: Choose a statement that best represents you, two categories\n",
    " - V84-94: Not interested in specifics of politcs, I will only look at orientation\n",
    " - V127-130: Opinions on good political system is not something I am interested in\n",
    " - V131-139: Essence of democracy is unrelated\n",
    " - V153-156: Agree/disagree statements about religion that won't be helpful\n",
    " - V157-V164: Stance of others in society opinon/are they respected; unrelated\n",
    " - V194-196: Hard to quantify questions about tech/science. Two topics\n",
    " - V211, 214, 215: No application of World culture to US Dataset\n",
    " - V217-224: Medium of news comparison (newspaper, TV, etc) \n",
    " - V228: Voting information of parties and fairness\n",
    " - V241: This is year born, V242 is age. Don't need both.\n",
    " - V251+: All observations by interviewer, don't want these\n",
    " "
   ]
  },
  {
   "cell_type": "code",
   "execution_count": 8,
   "metadata": {},
   "outputs": [],
   "source": [
    "#Drop columns not wanted in this analysis\n",
    "drop_list = ['V1','V2','V3','V10','V12','V13','V14','V15','V16','V17','V18','V19','V20','V21','V22'\n",
    "            ,'V36','V37','V38','V39','V40','V41','V42','V43','V44','V60','V61','V62','V63','V64','V65','V65','V66','V67','V68','V69'\n",
    "            ,'V80','V81','V84','V85','V86','V87','V88','V89','V90','V91','V92','V93','V94','V127','V128','V129','V130','V131','V132'\n",
    "            ,'V133','V134','V135','V136','V137','V138','V139','V153','V154','V155','V156','V157','V158','V159','V160','V161','V162'\n",
    "            ,'V163','V164','V165','V166','V167','V168','V169','V194','V195','V196','V197','V211','V214','V217','V218','V219'\n",
    "            ,'V220','V221','V222','V223','V224', 'V228', 'V241', 'V251','V252','V254','V255','V256','V256B','V257','V258','V258A','V260'\n",
    "            ,'V261','V262','V265']\n",
    "\n",
    "\n",
    "df.drop(drop_list, axis=1, inplace=True)"
   ]
  },
  {
   "cell_type": "code",
   "execution_count": 9,
   "metadata": {},
   "outputs": [],
   "source": [
    "# replace negative values with NA and handle them\n",
    "df = df.mask(df<0, other=np.nan)\n",
    "\n",
    "# fill all NAs with mode\n",
    "for column in df.columns:\n",
    "    df[column].fillna(df[column].mode()[0], inplace=True)"
   ]
  },
  {
   "cell_type": "code",
   "execution_count": 10,
   "metadata": {},
   "outputs": [
    {
     "data": {
      "text/plain": [
       "(2216, 155)"
      ]
     },
     "execution_count": 10,
     "metadata": {},
     "output_type": "execute_result"
    }
   ],
   "source": [
    "df.shape"
   ]
  },
  {
   "cell_type": "markdown",
   "metadata": {},
   "source": [
    "### Target Variable ###\n",
    "The code below is separating my target variable from the dataset. I will be trying to predict life satisfaction. The actualy wording of the question is \"Satisfaction with your life:\" and the options range on a scale from 1-10 with 1 being completely dissatisfied and 10 being completely satisfied. I am doing this before factor analysis because we don't want the target variable in any of our factors."
   ]
  },
  {
   "cell_type": "code",
   "execution_count": 11,
   "metadata": {},
   "outputs": [],
   "source": [
    "#Create target variable - Life satisfactions\n",
    "target = df['V23']\n",
    "target = target.reset_index(drop=True)\n",
    "\n",
    "model_df = df.copy(deep=True)\n",
    "#drop target from predictor data\n",
    "model_df.drop(['V23'], axis=1, inplace=True)\n",
    "model_df = model_df.reset_index(drop=True)"
   ]
  },
  {
   "cell_type": "markdown",
   "metadata": {},
   "source": [
    "## Factor Analysis ##\n",
    "Now that the dataset is cut down to the variables we want. I am going to perform factor analysis to determine if some of the variables are similar and should be combined. I found some help with factor analysis code from datacamp and what tests to perform. Here is the link to the article: <a href=\"https://www.datacamp.com/community/tutorials/introduction-factor-analysis\"> link </a>\n",
    "\n",
    "I am going to start with selecting variables in four categories that I think could potentially be put together in factors. I could do factor analysis over and over again on this dataset but for simplicity I am starting with the following:\n",
    "- Income/Work : V8, V59, V71, V96, V181, V229, V235, V236, V237, V238, V239\n",
    "- Family: V4, V49, V58, V79, V102\n",
    "- Health: V11, V192\n",
    "- Freedom/Choice: V55, V233"
   ]
  },
  {
   "cell_type": "code",
   "execution_count": 12,
   "metadata": {},
   "outputs": [],
   "source": [
    "# Dataset is too large to do factor analysis all at once. Using a selection of categories I think possible\n",
    "variables = ['V8', 'V47', 'V59', 'V71', 'V96', 'V121', 'V181', 'V229', 'V235', 'V236', 'V237', 'V238', 'V239', \n",
    "             'V4', 'V49', 'V102', 'V11', 'V192', 'V55', 'V233']\n",
    "factor_df = model_df[variables]\n",
    "factor_df = factor_df.reset_index(drop=True)"
   ]
  },
  {
   "cell_type": "markdown",
   "metadata": {},
   "source": [
    "### Bartlett’s test of sphericity ###\n",
    "Checks whether or not the observed variables intercorrelate at all using the observed correlation matrix against the identity matrix. If the test found statistically insignificant, you should not employ a factor analysis."
   ]
  },
  {
   "cell_type": "code",
   "execution_count": 13,
   "metadata": {},
   "outputs": [
    {
     "data": {
      "text/plain": [
       "(6463.820416488196, 0.0)"
      ]
     },
     "execution_count": 13,
     "metadata": {},
     "output_type": "execute_result"
    }
   ],
   "source": [
    "from factor_analyzer.factor_analyzer import calculate_bartlett_sphericity\n",
    "chi_square_value,p_value=calculate_bartlett_sphericity(factor_df)\n",
    "chi_square_value, p_value"
   ]
  },
  {
   "cell_type": "markdown",
   "metadata": {},
   "source": [
    " P value is 0 so the test is statistically significant "
   ]
  },
  {
   "cell_type": "markdown",
   "metadata": {},
   "source": [
    "### Kaiser-Meyer-Olkin (KMO) Test ###\n",
    "This test \"measures the suitability of data for factor analysis. It determines the adequacy for each observed variable and for the complete model. KMO estimates the proportion of variance among all the observed variable. Lower proportion id more suitable for factor analysis. KMO values range between 0 and 1. Value of KMO less than 0.6 is considered inadequate.\""
   ]
  },
  {
   "cell_type": "code",
   "execution_count": 14,
   "metadata": {},
   "outputs": [
    {
     "data": {
      "text/plain": [
       "0.7306585460032725"
      ]
     },
     "execution_count": 14,
     "metadata": {},
     "output_type": "execute_result"
    }
   ],
   "source": [
    "from factor_analyzer.factor_analyzer import calculate_kmo\n",
    "kmo_all,kmo_model=calculate_kmo(factor_df)\n",
    "kmo_model"
   ]
  },
  {
   "cell_type": "markdown",
   "metadata": {},
   "source": [
    " First I am doing an initial factor analysis so I can make a scree plot to select the correct amount of factors"
   ]
  },
  {
   "cell_type": "code",
   "execution_count": 15,
   "metadata": {},
   "outputs": [
    {
     "data": {
      "text/plain": [
       "array([3.23417623, 1.83983231, 1.60875222, 1.36973252, 1.15089425,\n",
       "       1.09509331, 0.99872694, 0.92518954, 0.89734337, 0.83830416,\n",
       "       0.77979091, 0.76906399, 0.72703093, 0.70105596, 0.6471287 ,\n",
       "       0.61442361, 0.55709206, 0.48334706, 0.42560701, 0.33741492])"
      ]
     },
     "execution_count": 15,
     "metadata": {},
     "output_type": "execute_result"
    }
   ],
   "source": [
    "# Create factor analysis object and perform factor analysis\n",
    "fa = FactorAnalyzer(n_factors=5, method='principal',rotation='varimax')\n",
    "fa.fit(factor_df)\n",
    "# Check Eigenvalues\n",
    "ev, v = fa.get_eigenvalues()\n",
    "ev"
   ]
  },
  {
   "cell_type": "code",
   "execution_count": 16,
   "metadata": {},
   "outputs": [
    {
     "data": {
      "image/png": "[encoded data removed]",
      "text/plain": [
       "<Figure size 432x288 with 1 Axes>"
      ]
     },
     "metadata": {
      "needs_background": "light"
     },
     "output_type": "display_data"
    }
   ],
   "source": [
    "# Create scree plot using matplotlib\n",
    "plt.scatter(range(1,factor_df.shape[1]+1),ev)\n",
    "plt.plot(range(1,factor_df.shape[1]+1),ev)\n",
    "plt.title('Scree Plot')\n",
    "plt.xlabel('Factors')\n",
    "plt.ylabel('Eigenvalue')\n",
    "plt.grid()\n",
    "plt.show()"
   ]
  },
  {
   "cell_type": "markdown",
   "metadata": {},
   "source": [
    "It looks like 6 is the best amount of factors"
   ]
  },
  {
   "cell_type": "code",
   "execution_count": 17,
   "metadata": {},
   "outputs": [
    {
     "data": {
      "text/html": [
       "<style  type=\"text/css\" >\n",
       "    #T_e9da7e76_8f42_11ea_ac52_3ca0676e036erow0_col0 {\n",
       "            color:  white;\n",
       "        }    #T_e9da7e76_8f42_11ea_ac52_3ca0676e036erow0_col1 {\n",
       "            color:  white;\n",
       "        }    #T_e9da7e76_8f42_11ea_ac52_3ca0676e036erow0_col2 {\n",
       "            color:  white;\n",
       "        }    #T_e9da7e76_8f42_11ea_ac52_3ca0676e036erow0_col3 {\n",
       "            color:  white;\n",
       "        }    #T_e9da7e76_8f42_11ea_ac52_3ca0676e036erow0_col4 {\n",
       "            color:  cyan;\n",
       "        }    #T_e9da7e76_8f42_11ea_ac52_3ca0676e036erow0_col5 {\n",
       "            color:  white;\n",
       "        }    #T_e9da7e76_8f42_11ea_ac52_3ca0676e036erow1_col0 {\n",
       "            color:  white;\n",
       "        }    #T_e9da7e76_8f42_11ea_ac52_3ca0676e036erow1_col1 {\n",
       "            color:  white;\n",
       "        }    #T_e9da7e76_8f42_11ea_ac52_3ca0676e036erow1_col2 {\n",
       "            color:  white;\n",
       "        }    #T_e9da7e76_8f42_11ea_ac52_3ca0676e036erow1_col3 {\n",
       "            color:  white;\n",
       "        }    #T_e9da7e76_8f42_11ea_ac52_3ca0676e036erow1_col4 {\n",
       "            color:  white;\n",
       "        }    #T_e9da7e76_8f42_11ea_ac52_3ca0676e036erow1_col5 {\n",
       "            color:  cyan;\n",
       "        }    #T_e9da7e76_8f42_11ea_ac52_3ca0676e036erow2_col0 {\n",
       "            color:  cyan;\n",
       "        }    #T_e9da7e76_8f42_11ea_ac52_3ca0676e036erow2_col1 {\n",
       "            color:  cyan;\n",
       "        }    #T_e9da7e76_8f42_11ea_ac52_3ca0676e036erow2_col2 {\n",
       "            color:  white;\n",
       "        }    #T_e9da7e76_8f42_11ea_ac52_3ca0676e036erow2_col3 {\n",
       "            color:  white;\n",
       "        }    #T_e9da7e76_8f42_11ea_ac52_3ca0676e036erow2_col4 {\n",
       "            color:  white;\n",
       "        }    #T_e9da7e76_8f42_11ea_ac52_3ca0676e036erow2_col5 {\n",
       "            color:  white;\n",
       "        }    #T_e9da7e76_8f42_11ea_ac52_3ca0676e036erow3_col0 {\n",
       "            color:  white;\n",
       "        }    #T_e9da7e76_8f42_11ea_ac52_3ca0676e036erow3_col1 {\n",
       "            color:  white;\n",
       "        }    #T_e9da7e76_8f42_11ea_ac52_3ca0676e036erow3_col2 {\n",
       "            color:  white;\n",
       "        }    #T_e9da7e76_8f42_11ea_ac52_3ca0676e036erow3_col3 {\n",
       "            color:  white;\n",
       "        }    #T_e9da7e76_8f42_11ea_ac52_3ca0676e036erow3_col4 {\n",
       "            color:  cyan;\n",
       "        }    #T_e9da7e76_8f42_11ea_ac52_3ca0676e036erow3_col5 {\n",
       "            color:  white;\n",
       "        }    #T_e9da7e76_8f42_11ea_ac52_3ca0676e036erow4_col0 {\n",
       "            color:  white;\n",
       "        }    #T_e9da7e76_8f42_11ea_ac52_3ca0676e036erow4_col1 {\n",
       "            color:  cyan;\n",
       "        }    #T_e9da7e76_8f42_11ea_ac52_3ca0676e036erow4_col2 {\n",
       "            color:  white;\n",
       "        }    #T_e9da7e76_8f42_11ea_ac52_3ca0676e036erow4_col3 {\n",
       "            color:  white;\n",
       "        }    #T_e9da7e76_8f42_11ea_ac52_3ca0676e036erow4_col4 {\n",
       "            color:  white;\n",
       "        }    #T_e9da7e76_8f42_11ea_ac52_3ca0676e036erow4_col5 {\n",
       "            color:  cyan;\n",
       "        }    #T_e9da7e76_8f42_11ea_ac52_3ca0676e036erow5_col0 {\n",
       "            color:  white;\n",
       "        }    #T_e9da7e76_8f42_11ea_ac52_3ca0676e036erow5_col1 {\n",
       "            color:  white;\n",
       "        }    #T_e9da7e76_8f42_11ea_ac52_3ca0676e036erow5_col2 {\n",
       "            color:  cyan;\n",
       "        }    #T_e9da7e76_8f42_11ea_ac52_3ca0676e036erow5_col3 {\n",
       "            color:  white;\n",
       "        }    #T_e9da7e76_8f42_11ea_ac52_3ca0676e036erow5_col4 {\n",
       "            color:  white;\n",
       "        }    #T_e9da7e76_8f42_11ea_ac52_3ca0676e036erow5_col5 {\n",
       "            color:  cyan;\n",
       "        }    #T_e9da7e76_8f42_11ea_ac52_3ca0676e036erow6_col0 {\n",
       "            color:  white;\n",
       "        }    #T_e9da7e76_8f42_11ea_ac52_3ca0676e036erow6_col1 {\n",
       "            color:  white;\n",
       "        }    #T_e9da7e76_8f42_11ea_ac52_3ca0676e036erow6_col2 {\n",
       "            color:  white;\n",
       "        }    #T_e9da7e76_8f42_11ea_ac52_3ca0676e036erow6_col3 {\n",
       "            color:  white;\n",
       "        }    #T_e9da7e76_8f42_11ea_ac52_3ca0676e036erow6_col4 {\n",
       "            color:  cyan;\n",
       "        }    #T_e9da7e76_8f42_11ea_ac52_3ca0676e036erow6_col5 {\n",
       "            color:  white;\n",
       "        }    #T_e9da7e76_8f42_11ea_ac52_3ca0676e036erow7_col0 {\n",
       "            color:  white;\n",
       "        }    #T_e9da7e76_8f42_11ea_ac52_3ca0676e036erow7_col1 {\n",
       "            color:  white;\n",
       "        }    #T_e9da7e76_8f42_11ea_ac52_3ca0676e036erow7_col2 {\n",
       "            color:  white;\n",
       "        }    #T_e9da7e76_8f42_11ea_ac52_3ca0676e036erow7_col3 {\n",
       "            color:  cyan;\n",
       "        }    #T_e9da7e76_8f42_11ea_ac52_3ca0676e036erow7_col4 {\n",
       "            color:  white;\n",
       "        }    #T_e9da7e76_8f42_11ea_ac52_3ca0676e036erow7_col5 {\n",
       "            color:  white;\n",
       "        }    #T_e9da7e76_8f42_11ea_ac52_3ca0676e036erow8_col0 {\n",
       "            color:  white;\n",
       "        }    #T_e9da7e76_8f42_11ea_ac52_3ca0676e036erow8_col1 {\n",
       "            color:  white;\n",
       "        }    #T_e9da7e76_8f42_11ea_ac52_3ca0676e036erow8_col2 {\n",
       "            color:  white;\n",
       "        }    #T_e9da7e76_8f42_11ea_ac52_3ca0676e036erow8_col3 {\n",
       "            color:  cyan;\n",
       "        }    #T_e9da7e76_8f42_11ea_ac52_3ca0676e036erow8_col4 {\n",
       "            color:  white;\n",
       "        }    #T_e9da7e76_8f42_11ea_ac52_3ca0676e036erow8_col5 {\n",
       "            color:  white;\n",
       "        }    #T_e9da7e76_8f42_11ea_ac52_3ca0676e036erow9_col0 {\n",
       "            color:  white;\n",
       "        }    #T_e9da7e76_8f42_11ea_ac52_3ca0676e036erow9_col1 {\n",
       "            color:  white;\n",
       "        }    #T_e9da7e76_8f42_11ea_ac52_3ca0676e036erow9_col2 {\n",
       "            color:  white;\n",
       "        }    #T_e9da7e76_8f42_11ea_ac52_3ca0676e036erow9_col3 {\n",
       "            color:  cyan;\n",
       "        }    #T_e9da7e76_8f42_11ea_ac52_3ca0676e036erow9_col4 {\n",
       "            color:  white;\n",
       "        }    #T_e9da7e76_8f42_11ea_ac52_3ca0676e036erow9_col5 {\n",
       "            color:  white;\n",
       "        }    #T_e9da7e76_8f42_11ea_ac52_3ca0676e036erow10_col0 {\n",
       "            color:  cyan;\n",
       "        }    #T_e9da7e76_8f42_11ea_ac52_3ca0676e036erow10_col1 {\n",
       "            color:  white;\n",
       "        }    #T_e9da7e76_8f42_11ea_ac52_3ca0676e036erow10_col2 {\n",
       "            color:  white;\n",
       "        }    #T_e9da7e76_8f42_11ea_ac52_3ca0676e036erow10_col3 {\n",
       "            color:  white;\n",
       "        }    #T_e9da7e76_8f42_11ea_ac52_3ca0676e036erow10_col4 {\n",
       "            color:  white;\n",
       "        }    #T_e9da7e76_8f42_11ea_ac52_3ca0676e036erow10_col5 {\n",
       "            color:  white;\n",
       "        }    #T_e9da7e76_8f42_11ea_ac52_3ca0676e036erow11_col0 {\n",
       "            color:  cyan;\n",
       "        }    #T_e9da7e76_8f42_11ea_ac52_3ca0676e036erow11_col1 {\n",
       "            color:  white;\n",
       "        }    #T_e9da7e76_8f42_11ea_ac52_3ca0676e036erow11_col2 {\n",
       "            color:  white;\n",
       "        }    #T_e9da7e76_8f42_11ea_ac52_3ca0676e036erow11_col3 {\n",
       "            color:  white;\n",
       "        }    #T_e9da7e76_8f42_11ea_ac52_3ca0676e036erow11_col4 {\n",
       "            color:  white;\n",
       "        }    #T_e9da7e76_8f42_11ea_ac52_3ca0676e036erow11_col5 {\n",
       "            color:  white;\n",
       "        }    #T_e9da7e76_8f42_11ea_ac52_3ca0676e036erow12_col0 {\n",
       "            color:  cyan;\n",
       "        }    #T_e9da7e76_8f42_11ea_ac52_3ca0676e036erow12_col1 {\n",
       "            color:  white;\n",
       "        }    #T_e9da7e76_8f42_11ea_ac52_3ca0676e036erow12_col2 {\n",
       "            color:  white;\n",
       "        }    #T_e9da7e76_8f42_11ea_ac52_3ca0676e036erow12_col3 {\n",
       "            color:  white;\n",
       "        }    #T_e9da7e76_8f42_11ea_ac52_3ca0676e036erow12_col4 {\n",
       "            color:  white;\n",
       "        }    #T_e9da7e76_8f42_11ea_ac52_3ca0676e036erow12_col5 {\n",
       "            color:  white;\n",
       "        }    #T_e9da7e76_8f42_11ea_ac52_3ca0676e036erow13_col0 {\n",
       "            color:  white;\n",
       "        }    #T_e9da7e76_8f42_11ea_ac52_3ca0676e036erow13_col1 {\n",
       "            color:  white;\n",
       "        }    #T_e9da7e76_8f42_11ea_ac52_3ca0676e036erow13_col2 {\n",
       "            color:  cyan;\n",
       "        }    #T_e9da7e76_8f42_11ea_ac52_3ca0676e036erow13_col3 {\n",
       "            color:  white;\n",
       "        }    #T_e9da7e76_8f42_11ea_ac52_3ca0676e036erow13_col4 {\n",
       "            color:  white;\n",
       "        }    #T_e9da7e76_8f42_11ea_ac52_3ca0676e036erow13_col5 {\n",
       "            color:  white;\n",
       "        }    #T_e9da7e76_8f42_11ea_ac52_3ca0676e036erow14_col0 {\n",
       "            color:  white;\n",
       "        }    #T_e9da7e76_8f42_11ea_ac52_3ca0676e036erow14_col1 {\n",
       "            color:  white;\n",
       "        }    #T_e9da7e76_8f42_11ea_ac52_3ca0676e036erow14_col2 {\n",
       "            color:  cyan;\n",
       "        }    #T_e9da7e76_8f42_11ea_ac52_3ca0676e036erow14_col3 {\n",
       "            color:  white;\n",
       "        }    #T_e9da7e76_8f42_11ea_ac52_3ca0676e036erow14_col4 {\n",
       "            color:  cyan;\n",
       "        }    #T_e9da7e76_8f42_11ea_ac52_3ca0676e036erow14_col5 {\n",
       "            color:  white;\n",
       "        }    #T_e9da7e76_8f42_11ea_ac52_3ca0676e036erow15_col0 {\n",
       "            color:  white;\n",
       "        }    #T_e9da7e76_8f42_11ea_ac52_3ca0676e036erow15_col1 {\n",
       "            color:  white;\n",
       "        }    #T_e9da7e76_8f42_11ea_ac52_3ca0676e036erow15_col2 {\n",
       "            color:  cyan;\n",
       "        }    #T_e9da7e76_8f42_11ea_ac52_3ca0676e036erow15_col3 {\n",
       "            color:  white;\n",
       "        }    #T_e9da7e76_8f42_11ea_ac52_3ca0676e036erow15_col4 {\n",
       "            color:  white;\n",
       "        }    #T_e9da7e76_8f42_11ea_ac52_3ca0676e036erow15_col5 {\n",
       "            color:  white;\n",
       "        }    #T_e9da7e76_8f42_11ea_ac52_3ca0676e036erow16_col0 {\n",
       "            color:  white;\n",
       "        }    #T_e9da7e76_8f42_11ea_ac52_3ca0676e036erow16_col1 {\n",
       "            color:  cyan;\n",
       "        }    #T_e9da7e76_8f42_11ea_ac52_3ca0676e036erow16_col2 {\n",
       "            color:  white;\n",
       "        }    #T_e9da7e76_8f42_11ea_ac52_3ca0676e036erow16_col3 {\n",
       "            color:  white;\n",
       "        }    #T_e9da7e76_8f42_11ea_ac52_3ca0676e036erow16_col4 {\n",
       "            color:  white;\n",
       "        }    #T_e9da7e76_8f42_11ea_ac52_3ca0676e036erow16_col5 {\n",
       "            color:  white;\n",
       "        }    #T_e9da7e76_8f42_11ea_ac52_3ca0676e036erow17_col0 {\n",
       "            color:  white;\n",
       "        }    #T_e9da7e76_8f42_11ea_ac52_3ca0676e036erow17_col1 {\n",
       "            color:  cyan;\n",
       "        }    #T_e9da7e76_8f42_11ea_ac52_3ca0676e036erow17_col2 {\n",
       "            color:  white;\n",
       "        }    #T_e9da7e76_8f42_11ea_ac52_3ca0676e036erow17_col3 {\n",
       "            color:  white;\n",
       "        }    #T_e9da7e76_8f42_11ea_ac52_3ca0676e036erow17_col4 {\n",
       "            color:  white;\n",
       "        }    #T_e9da7e76_8f42_11ea_ac52_3ca0676e036erow17_col5 {\n",
       "            color:  white;\n",
       "        }    #T_e9da7e76_8f42_11ea_ac52_3ca0676e036erow18_col0 {\n",
       "            color:  white;\n",
       "        }    #T_e9da7e76_8f42_11ea_ac52_3ca0676e036erow18_col1 {\n",
       "            color:  cyan;\n",
       "        }    #T_e9da7e76_8f42_11ea_ac52_3ca0676e036erow18_col2 {\n",
       "            color:  white;\n",
       "        }    #T_e9da7e76_8f42_11ea_ac52_3ca0676e036erow18_col3 {\n",
       "            color:  white;\n",
       "        }    #T_e9da7e76_8f42_11ea_ac52_3ca0676e036erow18_col4 {\n",
       "            color:  white;\n",
       "        }    #T_e9da7e76_8f42_11ea_ac52_3ca0676e036erow18_col5 {\n",
       "            color:  white;\n",
       "        }    #T_e9da7e76_8f42_11ea_ac52_3ca0676e036erow19_col0 {\n",
       "            color:  white;\n",
       "        }    #T_e9da7e76_8f42_11ea_ac52_3ca0676e036erow19_col1 {\n",
       "            color:  cyan;\n",
       "        }    #T_e9da7e76_8f42_11ea_ac52_3ca0676e036erow19_col2 {\n",
       "            color:  white;\n",
       "        }    #T_e9da7e76_8f42_11ea_ac52_3ca0676e036erow19_col3 {\n",
       "            color:  white;\n",
       "        }    #T_e9da7e76_8f42_11ea_ac52_3ca0676e036erow19_col4 {\n",
       "            color:  white;\n",
       "        }    #T_e9da7e76_8f42_11ea_ac52_3ca0676e036erow19_col5 {\n",
       "            color:  white;\n",
       "        }</style><table id=\"T_e9da7e76_8f42_11ea_ac52_3ca0676e036e\" ><thead>    <tr>        <th class=\"blank level0\" ></th>        <th class=\"col_heading level0 col0\" >0</th>        <th class=\"col_heading level0 col1\" >1</th>        <th class=\"col_heading level0 col2\" >2</th>        <th class=\"col_heading level0 col3\" >3</th>        <th class=\"col_heading level0 col4\" >4</th>        <th class=\"col_heading level0 col5\" >5</th>    </tr></thead><tbody>\n",
       "                <tr>\n",
       "                        <th id=\"T_e9da7e76_8f42_11ea_ac52_3ca0676e036elevel0_row0\" class=\"row_heading level0 row0\" >V8</th>\n",
       "                        <td id=\"T_e9da7e76_8f42_11ea_ac52_3ca0676e036erow0_col0\" class=\"data row0 col0\" >0.203152</td>\n",
       "                        <td id=\"T_e9da7e76_8f42_11ea_ac52_3ca0676e036erow0_col1\" class=\"data row0 col1\" >-0.266567</td>\n",
       "                        <td id=\"T_e9da7e76_8f42_11ea_ac52_3ca0676e036erow0_col2\" class=\"data row0 col2\" >0.165667</td>\n",
       "                        <td id=\"T_e9da7e76_8f42_11ea_ac52_3ca0676e036erow0_col3\" class=\"data row0 col3\" >0.171087</td>\n",
       "                        <td id=\"T_e9da7e76_8f42_11ea_ac52_3ca0676e036erow0_col4\" class=\"data row0 col4\" >0.586672</td>\n",
       "                        <td id=\"T_e9da7e76_8f42_11ea_ac52_3ca0676e036erow0_col5\" class=\"data row0 col5\" >0.039731</td>\n",
       "            </tr>\n",
       "            <tr>\n",
       "                        <th id=\"T_e9da7e76_8f42_11ea_ac52_3ca0676e036elevel0_row1\" class=\"row_heading level0 row1\" >V47</th>\n",
       "                        <td id=\"T_e9da7e76_8f42_11ea_ac52_3ca0676e036erow1_col0\" class=\"data row1 col0\" >0.087218</td>\n",
       "                        <td id=\"T_e9da7e76_8f42_11ea_ac52_3ca0676e036erow1_col1\" class=\"data row1 col1\" >0.282664</td>\n",
       "                        <td id=\"T_e9da7e76_8f42_11ea_ac52_3ca0676e036erow1_col2\" class=\"data row1 col2\" >0.024079</td>\n",
       "                        <td id=\"T_e9da7e76_8f42_11ea_ac52_3ca0676e036erow1_col3\" class=\"data row1 col3\" >0.025607</td>\n",
       "                        <td id=\"T_e9da7e76_8f42_11ea_ac52_3ca0676e036erow1_col4\" class=\"data row1 col4\" >0.058586</td>\n",
       "                        <td id=\"T_e9da7e76_8f42_11ea_ac52_3ca0676e036erow1_col5\" class=\"data row1 col5\" >0.644558</td>\n",
       "            </tr>\n",
       "            <tr>\n",
       "                        <th id=\"T_e9da7e76_8f42_11ea_ac52_3ca0676e036elevel0_row2\" class=\"row_heading level0 row2\" >V59</th>\n",
       "                        <td id=\"T_e9da7e76_8f42_11ea_ac52_3ca0676e036erow2_col0\" class=\"data row2 col0\" >0.643018</td>\n",
       "                        <td id=\"T_e9da7e76_8f42_11ea_ac52_3ca0676e036erow2_col1\" class=\"data row2 col1\" >0.346871</td>\n",
       "                        <td id=\"T_e9da7e76_8f42_11ea_ac52_3ca0676e036erow2_col2\" class=\"data row2 col2\" >-0.190689</td>\n",
       "                        <td id=\"T_e9da7e76_8f42_11ea_ac52_3ca0676e036erow2_col3\" class=\"data row2 col3\" >-0.010907</td>\n",
       "                        <td id=\"T_e9da7e76_8f42_11ea_ac52_3ca0676e036erow2_col4\" class=\"data row2 col4\" >0.249882</td>\n",
       "                        <td id=\"T_e9da7e76_8f42_11ea_ac52_3ca0676e036erow2_col5\" class=\"data row2 col5\" >-0.075256</td>\n",
       "            </tr>\n",
       "            <tr>\n",
       "                        <th id=\"T_e9da7e76_8f42_11ea_ac52_3ca0676e036elevel0_row3\" class=\"row_heading level0 row3\" >V71</th>\n",
       "                        <td id=\"T_e9da7e76_8f42_11ea_ac52_3ca0676e036erow3_col0\" class=\"data row3 col0\" >-0.278504</td>\n",
       "                        <td id=\"T_e9da7e76_8f42_11ea_ac52_3ca0676e036erow3_col1\" class=\"data row3 col1\" >0.178307</td>\n",
       "                        <td id=\"T_e9da7e76_8f42_11ea_ac52_3ca0676e036erow3_col2\" class=\"data row3 col2\" >-0.129800</td>\n",
       "                        <td id=\"T_e9da7e76_8f42_11ea_ac52_3ca0676e036erow3_col3\" class=\"data row3 col3\" >-0.061560</td>\n",
       "                        <td id=\"T_e9da7e76_8f42_11ea_ac52_3ca0676e036erow3_col4\" class=\"data row3 col4\" >0.588289</td>\n",
       "                        <td id=\"T_e9da7e76_8f42_11ea_ac52_3ca0676e036erow3_col5\" class=\"data row3 col5\" >0.202184</td>\n",
       "            </tr>\n",
       "            <tr>\n",
       "                        <th id=\"T_e9da7e76_8f42_11ea_ac52_3ca0676e036elevel0_row4\" class=\"row_heading level0 row4\" >V96</th>\n",
       "                        <td id=\"T_e9da7e76_8f42_11ea_ac52_3ca0676e036erow4_col0\" class=\"data row4 col0\" >0.124886</td>\n",
       "                        <td id=\"T_e9da7e76_8f42_11ea_ac52_3ca0676e036erow4_col1\" class=\"data row4 col1\" >0.312994</td>\n",
       "                        <td id=\"T_e9da7e76_8f42_11ea_ac52_3ca0676e036erow4_col2\" class=\"data row4 col2\" >0.057109</td>\n",
       "                        <td id=\"T_e9da7e76_8f42_11ea_ac52_3ca0676e036erow4_col3\" class=\"data row4 col3\" >-0.017918</td>\n",
       "                        <td id=\"T_e9da7e76_8f42_11ea_ac52_3ca0676e036erow4_col4\" class=\"data row4 col4\" >-0.075170</td>\n",
       "                        <td id=\"T_e9da7e76_8f42_11ea_ac52_3ca0676e036erow4_col5\" class=\"data row4 col5\" >-0.563313</td>\n",
       "            </tr>\n",
       "            <tr>\n",
       "                        <th id=\"T_e9da7e76_8f42_11ea_ac52_3ca0676e036elevel0_row5\" class=\"row_heading level0 row5\" >V121</th>\n",
       "                        <td id=\"T_e9da7e76_8f42_11ea_ac52_3ca0676e036erow5_col0\" class=\"data row5 col0\" >-0.096947</td>\n",
       "                        <td id=\"T_e9da7e76_8f42_11ea_ac52_3ca0676e036erow5_col1\" class=\"data row5 col1\" >-0.262050</td>\n",
       "                        <td id=\"T_e9da7e76_8f42_11ea_ac52_3ca0676e036erow5_col2\" class=\"data row5 col2\" >0.325622</td>\n",
       "                        <td id=\"T_e9da7e76_8f42_11ea_ac52_3ca0676e036erow5_col3\" class=\"data row5 col3\" >-0.149332</td>\n",
       "                        <td id=\"T_e9da7e76_8f42_11ea_ac52_3ca0676e036erow5_col4\" class=\"data row5 col4\" >-0.045150</td>\n",
       "                        <td id=\"T_e9da7e76_8f42_11ea_ac52_3ca0676e036erow5_col5\" class=\"data row5 col5\" >0.326654</td>\n",
       "            </tr>\n",
       "            <tr>\n",
       "                        <th id=\"T_e9da7e76_8f42_11ea_ac52_3ca0676e036elevel0_row6\" class=\"row_heading level0 row6\" >V181</th>\n",
       "                        <td id=\"T_e9da7e76_8f42_11ea_ac52_3ca0676e036erow6_col0\" class=\"data row6 col0\" >0.284502</td>\n",
       "                        <td id=\"T_e9da7e76_8f42_11ea_ac52_3ca0676e036erow6_col1\" class=\"data row6 col1\" >0.095373</td>\n",
       "                        <td id=\"T_e9da7e76_8f42_11ea_ac52_3ca0676e036erow6_col2\" class=\"data row6 col2\" >0.005883</td>\n",
       "                        <td id=\"T_e9da7e76_8f42_11ea_ac52_3ca0676e036erow6_col3\" class=\"data row6 col3\" >0.049442</td>\n",
       "                        <td id=\"T_e9da7e76_8f42_11ea_ac52_3ca0676e036erow6_col4\" class=\"data row6 col4\" >0.718338</td>\n",
       "                        <td id=\"T_e9da7e76_8f42_11ea_ac52_3ca0676e036erow6_col5\" class=\"data row6 col5\" >-0.094316</td>\n",
       "            </tr>\n",
       "            <tr>\n",
       "                        <th id=\"T_e9da7e76_8f42_11ea_ac52_3ca0676e036elevel0_row7\" class=\"row_heading level0 row7\" >V229</th>\n",
       "                        <td id=\"T_e9da7e76_8f42_11ea_ac52_3ca0676e036erow7_col0\" class=\"data row7 col0\" >-0.233909</td>\n",
       "                        <td id=\"T_e9da7e76_8f42_11ea_ac52_3ca0676e036erow7_col1\" class=\"data row7 col1\" >-0.147973</td>\n",
       "                        <td id=\"T_e9da7e76_8f42_11ea_ac52_3ca0676e036erow7_col2\" class=\"data row7 col2\" >-0.008484</td>\n",
       "                        <td id=\"T_e9da7e76_8f42_11ea_ac52_3ca0676e036erow7_col3\" class=\"data row7 col3\" >0.519484</td>\n",
       "                        <td id=\"T_e9da7e76_8f42_11ea_ac52_3ca0676e036erow7_col4\" class=\"data row7 col4\" >0.227533</td>\n",
       "                        <td id=\"T_e9da7e76_8f42_11ea_ac52_3ca0676e036erow7_col5\" class=\"data row7 col5\" >-0.296461</td>\n",
       "            </tr>\n",
       "            <tr>\n",
       "                        <th id=\"T_e9da7e76_8f42_11ea_ac52_3ca0676e036elevel0_row8\" class=\"row_heading level0 row8\" >V235</th>\n",
       "                        <td id=\"T_e9da7e76_8f42_11ea_ac52_3ca0676e036erow8_col0\" class=\"data row8 col0\" >0.077949</td>\n",
       "                        <td id=\"T_e9da7e76_8f42_11ea_ac52_3ca0676e036erow8_col1\" class=\"data row8 col1\" >-0.011292</td>\n",
       "                        <td id=\"T_e9da7e76_8f42_11ea_ac52_3ca0676e036erow8_col2\" class=\"data row8 col2\" >-0.081734</td>\n",
       "                        <td id=\"T_e9da7e76_8f42_11ea_ac52_3ca0676e036erow8_col3\" class=\"data row8 col3\" >0.802159</td>\n",
       "                        <td id=\"T_e9da7e76_8f42_11ea_ac52_3ca0676e036erow8_col4\" class=\"data row8 col4\" >-0.104009</td>\n",
       "                        <td id=\"T_e9da7e76_8f42_11ea_ac52_3ca0676e036erow8_col5\" class=\"data row8 col5\" >0.124344</td>\n",
       "            </tr>\n",
       "            <tr>\n",
       "                        <th id=\"T_e9da7e76_8f42_11ea_ac52_3ca0676e036elevel0_row9\" class=\"row_heading level0 row9\" >V236</th>\n",
       "                        <td id=\"T_e9da7e76_8f42_11ea_ac52_3ca0676e036erow9_col0\" class=\"data row9 col0\" >-0.036259</td>\n",
       "                        <td id=\"T_e9da7e76_8f42_11ea_ac52_3ca0676e036erow9_col1\" class=\"data row9 col1\" >-0.043942</td>\n",
       "                        <td id=\"T_e9da7e76_8f42_11ea_ac52_3ca0676e036erow9_col2\" class=\"data row9 col2\" >0.093262</td>\n",
       "                        <td id=\"T_e9da7e76_8f42_11ea_ac52_3ca0676e036erow9_col3\" class=\"data row9 col3\" >0.762611</td>\n",
       "                        <td id=\"T_e9da7e76_8f42_11ea_ac52_3ca0676e036erow9_col4\" class=\"data row9 col4\" >0.082362</td>\n",
       "                        <td id=\"T_e9da7e76_8f42_11ea_ac52_3ca0676e036erow9_col5\" class=\"data row9 col5\" >-0.017998</td>\n",
       "            </tr>\n",
       "            <tr>\n",
       "                        <th id=\"T_e9da7e76_8f42_11ea_ac52_3ca0676e036elevel0_row10\" class=\"row_heading level0 row10\" >V237</th>\n",
       "                        <td id=\"T_e9da7e76_8f42_11ea_ac52_3ca0676e036erow10_col0\" class=\"data row10 col0\" >-0.617976</td>\n",
       "                        <td id=\"T_e9da7e76_8f42_11ea_ac52_3ca0676e036erow10_col1\" class=\"data row10 col1\" >0.002690</td>\n",
       "                        <td id=\"T_e9da7e76_8f42_11ea_ac52_3ca0676e036erow10_col2\" class=\"data row10 col2\" >0.061597</td>\n",
       "                        <td id=\"T_e9da7e76_8f42_11ea_ac52_3ca0676e036erow10_col3\" class=\"data row10 col3\" >0.127258</td>\n",
       "                        <td id=\"T_e9da7e76_8f42_11ea_ac52_3ca0676e036erow10_col4\" class=\"data row10 col4\" >-0.207847</td>\n",
       "                        <td id=\"T_e9da7e76_8f42_11ea_ac52_3ca0676e036erow10_col5\" class=\"data row10 col5\" >0.109984</td>\n",
       "            </tr>\n",
       "            <tr>\n",
       "                        <th id=\"T_e9da7e76_8f42_11ea_ac52_3ca0676e036elevel0_row11\" class=\"row_heading level0 row11\" >V238</th>\n",
       "                        <td id=\"T_e9da7e76_8f42_11ea_ac52_3ca0676e036erow11_col0\" class=\"data row11 col0\" >-0.789520</td>\n",
       "                        <td id=\"T_e9da7e76_8f42_11ea_ac52_3ca0676e036erow11_col1\" class=\"data row11 col1\" >-0.149364</td>\n",
       "                        <td id=\"T_e9da7e76_8f42_11ea_ac52_3ca0676e036erow11_col2\" class=\"data row11 col2\" >0.013052</td>\n",
       "                        <td id=\"T_e9da7e76_8f42_11ea_ac52_3ca0676e036erow11_col3\" class=\"data row11 col3\" >-0.004740</td>\n",
       "                        <td id=\"T_e9da7e76_8f42_11ea_ac52_3ca0676e036erow11_col4\" class=\"data row11 col4\" >0.022524</td>\n",
       "                        <td id=\"T_e9da7e76_8f42_11ea_ac52_3ca0676e036erow11_col5\" class=\"data row11 col5\" >-0.074415</td>\n",
       "            </tr>\n",
       "            <tr>\n",
       "                        <th id=\"T_e9da7e76_8f42_11ea_ac52_3ca0676e036elevel0_row12\" class=\"row_heading level0 row12\" >V239</th>\n",
       "                        <td id=\"T_e9da7e76_8f42_11ea_ac52_3ca0676e036erow12_col0\" class=\"data row12 col0\" >0.784607</td>\n",
       "                        <td id=\"T_e9da7e76_8f42_11ea_ac52_3ca0676e036erow12_col1\" class=\"data row12 col1\" >0.228945</td>\n",
       "                        <td id=\"T_e9da7e76_8f42_11ea_ac52_3ca0676e036erow12_col2\" class=\"data row12 col2\" >0.007360</td>\n",
       "                        <td id=\"T_e9da7e76_8f42_11ea_ac52_3ca0676e036erow12_col3\" class=\"data row12 col3\" >0.047201</td>\n",
       "                        <td id=\"T_e9da7e76_8f42_11ea_ac52_3ca0676e036erow12_col4\" class=\"data row12 col4\" >-0.080281</td>\n",
       "                        <td id=\"T_e9da7e76_8f42_11ea_ac52_3ca0676e036erow12_col5\" class=\"data row12 col5\" >0.032140</td>\n",
       "            </tr>\n",
       "            <tr>\n",
       "                        <th id=\"T_e9da7e76_8f42_11ea_ac52_3ca0676e036elevel0_row13\" class=\"row_heading level0 row13\" >V4</th>\n",
       "                        <td id=\"T_e9da7e76_8f42_11ea_ac52_3ca0676e036erow13_col0\" class=\"data row13 col0\" >0.021483</td>\n",
       "                        <td id=\"T_e9da7e76_8f42_11ea_ac52_3ca0676e036erow13_col1\" class=\"data row13 col1\" >0.019850</td>\n",
       "                        <td id=\"T_e9da7e76_8f42_11ea_ac52_3ca0676e036erow13_col2\" class=\"data row13 col2\" >0.760123</td>\n",
       "                        <td id=\"T_e9da7e76_8f42_11ea_ac52_3ca0676e036erow13_col3\" class=\"data row13 col3\" >0.062896</td>\n",
       "                        <td id=\"T_e9da7e76_8f42_11ea_ac52_3ca0676e036erow13_col4\" class=\"data row13 col4\" >-0.013904</td>\n",
       "                        <td id=\"T_e9da7e76_8f42_11ea_ac52_3ca0676e036erow13_col5\" class=\"data row13 col5\" >0.033340</td>\n",
       "            </tr>\n",
       "            <tr>\n",
       "                        <th id=\"T_e9da7e76_8f42_11ea_ac52_3ca0676e036elevel0_row14\" class=\"row_heading level0 row14\" >V49</th>\n",
       "                        <td id=\"T_e9da7e76_8f42_11ea_ac52_3ca0676e036erow14_col0\" class=\"data row14 col0\" >-0.025167</td>\n",
       "                        <td id=\"T_e9da7e76_8f42_11ea_ac52_3ca0676e036erow14_col1\" class=\"data row14 col1\" >0.012498</td>\n",
       "                        <td id=\"T_e9da7e76_8f42_11ea_ac52_3ca0676e036erow14_col2\" class=\"data row14 col2\" >0.499005</td>\n",
       "                        <td id=\"T_e9da7e76_8f42_11ea_ac52_3ca0676e036erow14_col3\" class=\"data row14 col3\" >-0.078842</td>\n",
       "                        <td id=\"T_e9da7e76_8f42_11ea_ac52_3ca0676e036erow14_col4\" class=\"data row14 col4\" >0.359785</td>\n",
       "                        <td id=\"T_e9da7e76_8f42_11ea_ac52_3ca0676e036erow14_col5\" class=\"data row14 col5\" >0.230368</td>\n",
       "            </tr>\n",
       "            <tr>\n",
       "                        <th id=\"T_e9da7e76_8f42_11ea_ac52_3ca0676e036elevel0_row15\" class=\"row_heading level0 row15\" >V102</th>\n",
       "                        <td id=\"T_e9da7e76_8f42_11ea_ac52_3ca0676e036erow15_col0\" class=\"data row15 col0\" >-0.129745</td>\n",
       "                        <td id=\"T_e9da7e76_8f42_11ea_ac52_3ca0676e036erow15_col1\" class=\"data row15 col1\" >-0.110513</td>\n",
       "                        <td id=\"T_e9da7e76_8f42_11ea_ac52_3ca0676e036erow15_col2\" class=\"data row15 col2\" >0.735157</td>\n",
       "                        <td id=\"T_e9da7e76_8f42_11ea_ac52_3ca0676e036erow15_col3\" class=\"data row15 col3\" >0.022755</td>\n",
       "                        <td id=\"T_e9da7e76_8f42_11ea_ac52_3ca0676e036erow15_col4\" class=\"data row15 col4\" >-0.050522</td>\n",
       "                        <td id=\"T_e9da7e76_8f42_11ea_ac52_3ca0676e036erow15_col5\" class=\"data row15 col5\" >-0.183629</td>\n",
       "            </tr>\n",
       "            <tr>\n",
       "                        <th id=\"T_e9da7e76_8f42_11ea_ac52_3ca0676e036elevel0_row16\" class=\"row_heading level0 row16\" >V11</th>\n",
       "                        <td id=\"T_e9da7e76_8f42_11ea_ac52_3ca0676e036erow16_col0\" class=\"data row16 col0\" >-0.235321</td>\n",
       "                        <td id=\"T_e9da7e76_8f42_11ea_ac52_3ca0676e036erow16_col1\" class=\"data row16 col1\" >-0.527030</td>\n",
       "                        <td id=\"T_e9da7e76_8f42_11ea_ac52_3ca0676e036erow16_col2\" class=\"data row16 col2\" >0.146367</td>\n",
       "                        <td id=\"T_e9da7e76_8f42_11ea_ac52_3ca0676e036erow16_col3\" class=\"data row16 col3\" >0.019971</td>\n",
       "                        <td id=\"T_e9da7e76_8f42_11ea_ac52_3ca0676e036erow16_col4\" class=\"data row16 col4\" >0.159891</td>\n",
       "                        <td id=\"T_e9da7e76_8f42_11ea_ac52_3ca0676e036erow16_col5\" class=\"data row16 col5\" >-0.153815</td>\n",
       "            </tr>\n",
       "            <tr>\n",
       "                        <th id=\"T_e9da7e76_8f42_11ea_ac52_3ca0676e036elevel0_row17\" class=\"row_heading level0 row17\" >V192</th>\n",
       "                        <td id=\"T_e9da7e76_8f42_11ea_ac52_3ca0676e036erow17_col0\" class=\"data row17 col0\" >0.178546</td>\n",
       "                        <td id=\"T_e9da7e76_8f42_11ea_ac52_3ca0676e036erow17_col1\" class=\"data row17 col1\" >0.485759</td>\n",
       "                        <td id=\"T_e9da7e76_8f42_11ea_ac52_3ca0676e036erow17_col2\" class=\"data row17 col2\" >0.031334</td>\n",
       "                        <td id=\"T_e9da7e76_8f42_11ea_ac52_3ca0676e036erow17_col3\" class=\"data row17 col3\" >0.032025</td>\n",
       "                        <td id=\"T_e9da7e76_8f42_11ea_ac52_3ca0676e036erow17_col4\" class=\"data row17 col4\" >-0.070115</td>\n",
       "                        <td id=\"T_e9da7e76_8f42_11ea_ac52_3ca0676e036erow17_col5\" class=\"data row17 col5\" >0.091255</td>\n",
       "            </tr>\n",
       "            <tr>\n",
       "                        <th id=\"T_e9da7e76_8f42_11ea_ac52_3ca0676e036elevel0_row18\" class=\"row_heading level0 row18\" >V55</th>\n",
       "                        <td id=\"T_e9da7e76_8f42_11ea_ac52_3ca0676e036erow18_col0\" class=\"data row18 col0\" >0.101440</td>\n",
       "                        <td id=\"T_e9da7e76_8f42_11ea_ac52_3ca0676e036erow18_col1\" class=\"data row18 col1\" >0.657110</td>\n",
       "                        <td id=\"T_e9da7e76_8f42_11ea_ac52_3ca0676e036erow18_col2\" class=\"data row18 col2\" >-0.172226</td>\n",
       "                        <td id=\"T_e9da7e76_8f42_11ea_ac52_3ca0676e036erow18_col3\" class=\"data row18 col3\" >-0.046613</td>\n",
       "                        <td id=\"T_e9da7e76_8f42_11ea_ac52_3ca0676e036erow18_col4\" class=\"data row18 col4\" >0.165414</td>\n",
       "                        <td id=\"T_e9da7e76_8f42_11ea_ac52_3ca0676e036erow18_col5\" class=\"data row18 col5\" >-0.045584</td>\n",
       "            </tr>\n",
       "            <tr>\n",
       "                        <th id=\"T_e9da7e76_8f42_11ea_ac52_3ca0676e036elevel0_row19\" class=\"row_heading level0 row19\" >V233</th>\n",
       "                        <td id=\"T_e9da7e76_8f42_11ea_ac52_3ca0676e036erow19_col0\" class=\"data row19 col0\" >0.020694</td>\n",
       "                        <td id=\"T_e9da7e76_8f42_11ea_ac52_3ca0676e036erow19_col1\" class=\"data row19 col1\" >0.540195</td>\n",
       "                        <td id=\"T_e9da7e76_8f42_11ea_ac52_3ca0676e036erow19_col2\" class=\"data row19 col2\" >0.093820</td>\n",
       "                        <td id=\"T_e9da7e76_8f42_11ea_ac52_3ca0676e036erow19_col3\" class=\"data row19 col3\" >-0.163073</td>\n",
       "                        <td id=\"T_e9da7e76_8f42_11ea_ac52_3ca0676e036erow19_col4\" class=\"data row19 col4\" >0.091705</td>\n",
       "                        <td id=\"T_e9da7e76_8f42_11ea_ac52_3ca0676e036erow19_col5\" class=\"data row19 col5\" >-0.187030</td>\n",
       "            </tr>\n",
       "    </tbody></table>"
      ],
      "text/plain": [
       "<pandas.io.formats.style.Styler at 0x150b83c1148>"
      ]
     },
     "execution_count": 17,
     "metadata": {},
     "output_type": "execute_result"
    }
   ],
   "source": [
    "fa = FactorAnalyzer(n_factors=6, method='principal',rotation='varimax')\n",
    "fa.fit(factor_df)\n",
    "loadings = fa.loadings_\n",
    "\n",
    "loadings_df = pd.DataFrame(loadings)\n",
    "loadings_df = loadings_df.set_index(factor_df.columns)\n",
    "\n",
    "def color_loading(val):\n",
    "    color = 'cyan' if abs(val) >= 0.3 else 'white'\n",
    "    return 'color: %s' % color\n",
    "\n",
    "loadings_df = loadings_df.style.applymap(color_loading)\n",
    "loadings_df"
   ]
  },
  {
   "cell_type": "markdown",
   "metadata": {},
   "source": [
    "Some of the variables are cross loading into multiple factors. I am going to remove these variables."
   ]
  },
  {
   "cell_type": "code",
   "execution_count": 18,
   "metadata": {},
   "outputs": [
    {
     "data": {
      "text/html": [
       "<style  type=\"text/css\" >\n",
       "    #T_e9e8a59a_8f42_11ea_8f93_3ca0676e036erow0_col0 {\n",
       "            color:  white;\n",
       "        }    #T_e9e8a59a_8f42_11ea_8f93_3ca0676e036erow0_col1 {\n",
       "            color:  white;\n",
       "        }    #T_e9e8a59a_8f42_11ea_8f93_3ca0676e036erow0_col2 {\n",
       "            color:  white;\n",
       "        }    #T_e9e8a59a_8f42_11ea_8f93_3ca0676e036erow0_col3 {\n",
       "            color:  cyan;\n",
       "        }    #T_e9e8a59a_8f42_11ea_8f93_3ca0676e036erow0_col4 {\n",
       "            color:  white;\n",
       "        }    #T_e9e8a59a_8f42_11ea_8f93_3ca0676e036erow0_col5 {\n",
       "            color:  white;\n",
       "        }    #T_e9e8a59a_8f42_11ea_8f93_3ca0676e036erow1_col0 {\n",
       "            color:  white;\n",
       "        }    #T_e9e8a59a_8f42_11ea_8f93_3ca0676e036erow1_col1 {\n",
       "            color:  white;\n",
       "        }    #T_e9e8a59a_8f42_11ea_8f93_3ca0676e036erow1_col2 {\n",
       "            color:  white;\n",
       "        }    #T_e9e8a59a_8f42_11ea_8f93_3ca0676e036erow1_col3 {\n",
       "            color:  white;\n",
       "        }    #T_e9e8a59a_8f42_11ea_8f93_3ca0676e036erow1_col4 {\n",
       "            color:  white;\n",
       "        }    #T_e9e8a59a_8f42_11ea_8f93_3ca0676e036erow1_col5 {\n",
       "            color:  cyan;\n",
       "        }    #T_e9e8a59a_8f42_11ea_8f93_3ca0676e036erow2_col0 {\n",
       "            color:  cyan;\n",
       "        }    #T_e9e8a59a_8f42_11ea_8f93_3ca0676e036erow2_col1 {\n",
       "            color:  white;\n",
       "        }    #T_e9e8a59a_8f42_11ea_8f93_3ca0676e036erow2_col2 {\n",
       "            color:  white;\n",
       "        }    #T_e9e8a59a_8f42_11ea_8f93_3ca0676e036erow2_col3 {\n",
       "            color:  cyan;\n",
       "        }    #T_e9e8a59a_8f42_11ea_8f93_3ca0676e036erow2_col4 {\n",
       "            color:  white;\n",
       "        }    #T_e9e8a59a_8f42_11ea_8f93_3ca0676e036erow2_col5 {\n",
       "            color:  white;\n",
       "        }    #T_e9e8a59a_8f42_11ea_8f93_3ca0676e036erow3_col0 {\n",
       "            color:  white;\n",
       "        }    #T_e9e8a59a_8f42_11ea_8f93_3ca0676e036erow3_col1 {\n",
       "            color:  cyan;\n",
       "        }    #T_e9e8a59a_8f42_11ea_8f93_3ca0676e036erow3_col2 {\n",
       "            color:  white;\n",
       "        }    #T_e9e8a59a_8f42_11ea_8f93_3ca0676e036erow3_col3 {\n",
       "            color:  white;\n",
       "        }    #T_e9e8a59a_8f42_11ea_8f93_3ca0676e036erow3_col4 {\n",
       "            color:  white;\n",
       "        }    #T_e9e8a59a_8f42_11ea_8f93_3ca0676e036erow3_col5 {\n",
       "            color:  cyan;\n",
       "        }    #T_e9e8a59a_8f42_11ea_8f93_3ca0676e036erow4_col0 {\n",
       "            color:  white;\n",
       "        }    #T_e9e8a59a_8f42_11ea_8f93_3ca0676e036erow4_col1 {\n",
       "            color:  white;\n",
       "        }    #T_e9e8a59a_8f42_11ea_8f93_3ca0676e036erow4_col2 {\n",
       "            color:  white;\n",
       "        }    #T_e9e8a59a_8f42_11ea_8f93_3ca0676e036erow4_col3 {\n",
       "            color:  cyan;\n",
       "        }    #T_e9e8a59a_8f42_11ea_8f93_3ca0676e036erow4_col4 {\n",
       "            color:  white;\n",
       "        }    #T_e9e8a59a_8f42_11ea_8f93_3ca0676e036erow4_col5 {\n",
       "            color:  white;\n",
       "        }    #T_e9e8a59a_8f42_11ea_8f93_3ca0676e036erow5_col0 {\n",
       "            color:  white;\n",
       "        }    #T_e9e8a59a_8f42_11ea_8f93_3ca0676e036erow5_col1 {\n",
       "            color:  white;\n",
       "        }    #T_e9e8a59a_8f42_11ea_8f93_3ca0676e036erow5_col2 {\n",
       "            color:  cyan;\n",
       "        }    #T_e9e8a59a_8f42_11ea_8f93_3ca0676e036erow5_col3 {\n",
       "            color:  white;\n",
       "        }    #T_e9e8a59a_8f42_11ea_8f93_3ca0676e036erow5_col4 {\n",
       "            color:  white;\n",
       "        }    #T_e9e8a59a_8f42_11ea_8f93_3ca0676e036erow5_col5 {\n",
       "            color:  cyan;\n",
       "        }    #T_e9e8a59a_8f42_11ea_8f93_3ca0676e036erow6_col0 {\n",
       "            color:  white;\n",
       "        }    #T_e9e8a59a_8f42_11ea_8f93_3ca0676e036erow6_col1 {\n",
       "            color:  white;\n",
       "        }    #T_e9e8a59a_8f42_11ea_8f93_3ca0676e036erow6_col2 {\n",
       "            color:  cyan;\n",
       "        }    #T_e9e8a59a_8f42_11ea_8f93_3ca0676e036erow6_col3 {\n",
       "            color:  white;\n",
       "        }    #T_e9e8a59a_8f42_11ea_8f93_3ca0676e036erow6_col4 {\n",
       "            color:  white;\n",
       "        }    #T_e9e8a59a_8f42_11ea_8f93_3ca0676e036erow6_col5 {\n",
       "            color:  white;\n",
       "        }    #T_e9e8a59a_8f42_11ea_8f93_3ca0676e036erow7_col0 {\n",
       "            color:  white;\n",
       "        }    #T_e9e8a59a_8f42_11ea_8f93_3ca0676e036erow7_col1 {\n",
       "            color:  white;\n",
       "        }    #T_e9e8a59a_8f42_11ea_8f93_3ca0676e036erow7_col2 {\n",
       "            color:  cyan;\n",
       "        }    #T_e9e8a59a_8f42_11ea_8f93_3ca0676e036erow7_col3 {\n",
       "            color:  white;\n",
       "        }    #T_e9e8a59a_8f42_11ea_8f93_3ca0676e036erow7_col4 {\n",
       "            color:  white;\n",
       "        }    #T_e9e8a59a_8f42_11ea_8f93_3ca0676e036erow7_col5 {\n",
       "            color:  white;\n",
       "        }    #T_e9e8a59a_8f42_11ea_8f93_3ca0676e036erow8_col0 {\n",
       "            color:  cyan;\n",
       "        }    #T_e9e8a59a_8f42_11ea_8f93_3ca0676e036erow8_col1 {\n",
       "            color:  white;\n",
       "        }    #T_e9e8a59a_8f42_11ea_8f93_3ca0676e036erow8_col2 {\n",
       "            color:  white;\n",
       "        }    #T_e9e8a59a_8f42_11ea_8f93_3ca0676e036erow8_col3 {\n",
       "            color:  white;\n",
       "        }    #T_e9e8a59a_8f42_11ea_8f93_3ca0676e036erow8_col4 {\n",
       "            color:  white;\n",
       "        }    #T_e9e8a59a_8f42_11ea_8f93_3ca0676e036erow8_col5 {\n",
       "            color:  white;\n",
       "        }    #T_e9e8a59a_8f42_11ea_8f93_3ca0676e036erow9_col0 {\n",
       "            color:  cyan;\n",
       "        }    #T_e9e8a59a_8f42_11ea_8f93_3ca0676e036erow9_col1 {\n",
       "            color:  white;\n",
       "        }    #T_e9e8a59a_8f42_11ea_8f93_3ca0676e036erow9_col2 {\n",
       "            color:  white;\n",
       "        }    #T_e9e8a59a_8f42_11ea_8f93_3ca0676e036erow9_col3 {\n",
       "            color:  white;\n",
       "        }    #T_e9e8a59a_8f42_11ea_8f93_3ca0676e036erow9_col4 {\n",
       "            color:  white;\n",
       "        }    #T_e9e8a59a_8f42_11ea_8f93_3ca0676e036erow9_col5 {\n",
       "            color:  white;\n",
       "        }    #T_e9e8a59a_8f42_11ea_8f93_3ca0676e036erow10_col0 {\n",
       "            color:  cyan;\n",
       "        }    #T_e9e8a59a_8f42_11ea_8f93_3ca0676e036erow10_col1 {\n",
       "            color:  white;\n",
       "        }    #T_e9e8a59a_8f42_11ea_8f93_3ca0676e036erow10_col2 {\n",
       "            color:  white;\n",
       "        }    #T_e9e8a59a_8f42_11ea_8f93_3ca0676e036erow10_col3 {\n",
       "            color:  white;\n",
       "        }    #T_e9e8a59a_8f42_11ea_8f93_3ca0676e036erow10_col4 {\n",
       "            color:  white;\n",
       "        }    #T_e9e8a59a_8f42_11ea_8f93_3ca0676e036erow10_col5 {\n",
       "            color:  white;\n",
       "        }    #T_e9e8a59a_8f42_11ea_8f93_3ca0676e036erow11_col0 {\n",
       "            color:  white;\n",
       "        }    #T_e9e8a59a_8f42_11ea_8f93_3ca0676e036erow11_col1 {\n",
       "            color:  white;\n",
       "        }    #T_e9e8a59a_8f42_11ea_8f93_3ca0676e036erow11_col2 {\n",
       "            color:  white;\n",
       "        }    #T_e9e8a59a_8f42_11ea_8f93_3ca0676e036erow11_col3 {\n",
       "            color:  white;\n",
       "        }    #T_e9e8a59a_8f42_11ea_8f93_3ca0676e036erow11_col4 {\n",
       "            color:  cyan;\n",
       "        }    #T_e9e8a59a_8f42_11ea_8f93_3ca0676e036erow11_col5 {\n",
       "            color:  white;\n",
       "        }    #T_e9e8a59a_8f42_11ea_8f93_3ca0676e036erow12_col0 {\n",
       "            color:  white;\n",
       "        }    #T_e9e8a59a_8f42_11ea_8f93_3ca0676e036erow12_col1 {\n",
       "            color:  white;\n",
       "        }    #T_e9e8a59a_8f42_11ea_8f93_3ca0676e036erow12_col2 {\n",
       "            color:  white;\n",
       "        }    #T_e9e8a59a_8f42_11ea_8f93_3ca0676e036erow12_col3 {\n",
       "            color:  white;\n",
       "        }    #T_e9e8a59a_8f42_11ea_8f93_3ca0676e036erow12_col4 {\n",
       "            color:  cyan;\n",
       "        }    #T_e9e8a59a_8f42_11ea_8f93_3ca0676e036erow12_col5 {\n",
       "            color:  white;\n",
       "        }    #T_e9e8a59a_8f42_11ea_8f93_3ca0676e036erow13_col0 {\n",
       "            color:  white;\n",
       "        }    #T_e9e8a59a_8f42_11ea_8f93_3ca0676e036erow13_col1 {\n",
       "            color:  cyan;\n",
       "        }    #T_e9e8a59a_8f42_11ea_8f93_3ca0676e036erow13_col2 {\n",
       "            color:  white;\n",
       "        }    #T_e9e8a59a_8f42_11ea_8f93_3ca0676e036erow13_col3 {\n",
       "            color:  white;\n",
       "        }    #T_e9e8a59a_8f42_11ea_8f93_3ca0676e036erow13_col4 {\n",
       "            color:  white;\n",
       "        }    #T_e9e8a59a_8f42_11ea_8f93_3ca0676e036erow13_col5 {\n",
       "            color:  white;\n",
       "        }    #T_e9e8a59a_8f42_11ea_8f93_3ca0676e036erow14_col0 {\n",
       "            color:  white;\n",
       "        }    #T_e9e8a59a_8f42_11ea_8f93_3ca0676e036erow14_col1 {\n",
       "            color:  cyan;\n",
       "        }    #T_e9e8a59a_8f42_11ea_8f93_3ca0676e036erow14_col2 {\n",
       "            color:  white;\n",
       "        }    #T_e9e8a59a_8f42_11ea_8f93_3ca0676e036erow14_col3 {\n",
       "            color:  white;\n",
       "        }    #T_e9e8a59a_8f42_11ea_8f93_3ca0676e036erow14_col4 {\n",
       "            color:  white;\n",
       "        }    #T_e9e8a59a_8f42_11ea_8f93_3ca0676e036erow14_col5 {\n",
       "            color:  white;\n",
       "        }    #T_e9e8a59a_8f42_11ea_8f93_3ca0676e036erow15_col0 {\n",
       "            color:  white;\n",
       "        }    #T_e9e8a59a_8f42_11ea_8f93_3ca0676e036erow15_col1 {\n",
       "            color:  cyan;\n",
       "        }    #T_e9e8a59a_8f42_11ea_8f93_3ca0676e036erow15_col2 {\n",
       "            color:  white;\n",
       "        }    #T_e9e8a59a_8f42_11ea_8f93_3ca0676e036erow15_col3 {\n",
       "            color:  white;\n",
       "        }    #T_e9e8a59a_8f42_11ea_8f93_3ca0676e036erow15_col4 {\n",
       "            color:  white;\n",
       "        }    #T_e9e8a59a_8f42_11ea_8f93_3ca0676e036erow15_col5 {\n",
       "            color:  white;\n",
       "        }    #T_e9e8a59a_8f42_11ea_8f93_3ca0676e036erow16_col0 {\n",
       "            color:  white;\n",
       "        }    #T_e9e8a59a_8f42_11ea_8f93_3ca0676e036erow16_col1 {\n",
       "            color:  cyan;\n",
       "        }    #T_e9e8a59a_8f42_11ea_8f93_3ca0676e036erow16_col2 {\n",
       "            color:  white;\n",
       "        }    #T_e9e8a59a_8f42_11ea_8f93_3ca0676e036erow16_col3 {\n",
       "            color:  white;\n",
       "        }    #T_e9e8a59a_8f42_11ea_8f93_3ca0676e036erow16_col4 {\n",
       "            color:  white;\n",
       "        }    #T_e9e8a59a_8f42_11ea_8f93_3ca0676e036erow16_col5 {\n",
       "            color:  white;\n",
       "        }</style><table id=\"T_e9e8a59a_8f42_11ea_8f93_3ca0676e036e\" ><thead>    <tr>        <th class=\"blank level0\" ></th>        <th class=\"col_heading level0 col0\" >0</th>        <th class=\"col_heading level0 col1\" >1</th>        <th class=\"col_heading level0 col2\" >2</th>        <th class=\"col_heading level0 col3\" >3</th>        <th class=\"col_heading level0 col4\" >4</th>        <th class=\"col_heading level0 col5\" >5</th>    </tr></thead><tbody>\n",
       "                <tr>\n",
       "                        <th id=\"T_e9e8a59a_8f42_11ea_8f93_3ca0676e036elevel0_row0\" class=\"row_heading level0 row0\" >V8</th>\n",
       "                        <td id=\"T_e9e8a59a_8f42_11ea_8f93_3ca0676e036erow0_col0\" class=\"data row0 col0\" >-0.172536</td>\n",
       "                        <td id=\"T_e9e8a59a_8f42_11ea_8f93_3ca0676e036erow0_col1\" class=\"data row0 col1\" >-0.238742</td>\n",
       "                        <td id=\"T_e9e8a59a_8f42_11ea_8f93_3ca0676e036erow0_col2\" class=\"data row0 col2\" >0.135223</td>\n",
       "                        <td id=\"T_e9e8a59a_8f42_11ea_8f93_3ca0676e036erow0_col3\" class=\"data row0 col3\" >0.662739</td>\n",
       "                        <td id=\"T_e9e8a59a_8f42_11ea_8f93_3ca0676e036erow0_col4\" class=\"data row0 col4\" >0.135411</td>\n",
       "                        <td id=\"T_e9e8a59a_8f42_11ea_8f93_3ca0676e036erow0_col5\" class=\"data row0 col5\" >-0.048308</td>\n",
       "            </tr>\n",
       "            <tr>\n",
       "                        <th id=\"T_e9e8a59a_8f42_11ea_8f93_3ca0676e036elevel0_row1\" class=\"row_heading level0 row1\" >V47</th>\n",
       "                        <td id=\"T_e9e8a59a_8f42_11ea_8f93_3ca0676e036erow1_col0\" class=\"data row1 col0\" >-0.097496</td>\n",
       "                        <td id=\"T_e9e8a59a_8f42_11ea_8f93_3ca0676e036erow1_col1\" class=\"data row1 col1\" >0.212788</td>\n",
       "                        <td id=\"T_e9e8a59a_8f42_11ea_8f93_3ca0676e036erow1_col2\" class=\"data row1 col2\" >-0.004704</td>\n",
       "                        <td id=\"T_e9e8a59a_8f42_11ea_8f93_3ca0676e036erow1_col3\" class=\"data row1 col3\" >0.051254</td>\n",
       "                        <td id=\"T_e9e8a59a_8f42_11ea_8f93_3ca0676e036erow1_col4\" class=\"data row1 col4\" >0.040044</td>\n",
       "                        <td id=\"T_e9e8a59a_8f42_11ea_8f93_3ca0676e036erow1_col5\" class=\"data row1 col5\" >-0.699934</td>\n",
       "            </tr>\n",
       "            <tr>\n",
       "                        <th id=\"T_e9e8a59a_8f42_11ea_8f93_3ca0676e036elevel0_row2\" class=\"row_heading level0 row2\" >V71</th>\n",
       "                        <td id=\"T_e9e8a59a_8f42_11ea_8f93_3ca0676e036erow2_col0\" class=\"data row2 col0\" >0.363809</td>\n",
       "                        <td id=\"T_e9e8a59a_8f42_11ea_8f93_3ca0676e036erow2_col1\" class=\"data row2 col1\" >0.188550</td>\n",
       "                        <td id=\"T_e9e8a59a_8f42_11ea_8f93_3ca0676e036erow2_col2\" class=\"data row2 col2\" >-0.065356</td>\n",
       "                        <td id=\"T_e9e8a59a_8f42_11ea_8f93_3ca0676e036erow2_col3\" class=\"data row2 col3\" >0.510914</td>\n",
       "                        <td id=\"T_e9e8a59a_8f42_11ea_8f93_3ca0676e036erow2_col4\" class=\"data row2 col4\" >-0.130642</td>\n",
       "                        <td id=\"T_e9e8a59a_8f42_11ea_8f93_3ca0676e036erow2_col5\" class=\"data row2 col5\" >-0.279568</td>\n",
       "            </tr>\n",
       "            <tr>\n",
       "                        <th id=\"T_e9e8a59a_8f42_11ea_8f93_3ca0676e036elevel0_row3\" class=\"row_heading level0 row3\" >V96</th>\n",
       "                        <td id=\"T_e9e8a59a_8f42_11ea_8f93_3ca0676e036erow3_col0\" class=\"data row3 col0\" >-0.139986</td>\n",
       "                        <td id=\"T_e9e8a59a_8f42_11ea_8f93_3ca0676e036erow3_col1\" class=\"data row3 col1\" >0.364597</td>\n",
       "                        <td id=\"T_e9e8a59a_8f42_11ea_8f93_3ca0676e036erow3_col2\" class=\"data row3 col2\" >0.004193</td>\n",
       "                        <td id=\"T_e9e8a59a_8f42_11ea_8f93_3ca0676e036erow3_col3\" class=\"data row3 col3\" >-0.060936</td>\n",
       "                        <td id=\"T_e9e8a59a_8f42_11ea_8f93_3ca0676e036erow3_col4\" class=\"data row3 col4\" >0.048071</td>\n",
       "                        <td id=\"T_e9e8a59a_8f42_11ea_8f93_3ca0676e036erow3_col5\" class=\"data row3 col5\" >0.536372</td>\n",
       "            </tr>\n",
       "            <tr>\n",
       "                        <th id=\"T_e9e8a59a_8f42_11ea_8f93_3ca0676e036elevel0_row4\" class=\"row_heading level0 row4\" >V181</th>\n",
       "                        <td id=\"T_e9e8a59a_8f42_11ea_8f93_3ca0676e036erow4_col0\" class=\"data row4 col0\" >-0.213616</td>\n",
       "                        <td id=\"T_e9e8a59a_8f42_11ea_8f93_3ca0676e036erow4_col1\" class=\"data row4 col1\" >0.157579</td>\n",
       "                        <td id=\"T_e9e8a59a_8f42_11ea_8f93_3ca0676e036erow4_col2\" class=\"data row4 col2\" >0.027446</td>\n",
       "                        <td id=\"T_e9e8a59a_8f42_11ea_8f93_3ca0676e036erow4_col3\" class=\"data row4 col3\" >0.764466</td>\n",
       "                        <td id=\"T_e9e8a59a_8f42_11ea_8f93_3ca0676e036erow4_col4\" class=\"data row4 col4\" >-0.021079</td>\n",
       "                        <td id=\"T_e9e8a59a_8f42_11ea_8f93_3ca0676e036erow4_col5\" class=\"data row4 col5\" >0.046835</td>\n",
       "            </tr>\n",
       "            <tr>\n",
       "                        <th id=\"T_e9e8a59a_8f42_11ea_8f93_3ca0676e036elevel0_row5\" class=\"row_heading level0 row5\" >V229</th>\n",
       "                        <td id=\"T_e9e8a59a_8f42_11ea_8f93_3ca0676e036erow5_col0\" class=\"data row5 col0\" >0.240977</td>\n",
       "                        <td id=\"T_e9e8a59a_8f42_11ea_8f93_3ca0676e036erow5_col1\" class=\"data row5 col1\" >-0.122313</td>\n",
       "                        <td id=\"T_e9e8a59a_8f42_11ea_8f93_3ca0676e036erow5_col2\" class=\"data row5 col2\" >0.511510</td>\n",
       "                        <td id=\"T_e9e8a59a_8f42_11ea_8f93_3ca0676e036erow5_col3\" class=\"data row5 col3\" >0.260029</td>\n",
       "                        <td id=\"T_e9e8a59a_8f42_11ea_8f93_3ca0676e036erow5_col4\" class=\"data row5 col4\" >-0.007312</td>\n",
       "                        <td id=\"T_e9e8a59a_8f42_11ea_8f93_3ca0676e036erow5_col5\" class=\"data row5 col5\" >0.310776</td>\n",
       "            </tr>\n",
       "            <tr>\n",
       "                        <th id=\"T_e9e8a59a_8f42_11ea_8f93_3ca0676e036elevel0_row6\" class=\"row_heading level0 row6\" >V235</th>\n",
       "                        <td id=\"T_e9e8a59a_8f42_11ea_8f93_3ca0676e036erow6_col0\" class=\"data row6 col0\" >-0.085324</td>\n",
       "                        <td id=\"T_e9e8a59a_8f42_11ea_8f93_3ca0676e036erow6_col1\" class=\"data row6 col1\" >-0.022349</td>\n",
       "                        <td id=\"T_e9e8a59a_8f42_11ea_8f93_3ca0676e036erow6_col2\" class=\"data row6 col2\" >0.818551</td>\n",
       "                        <td id=\"T_e9e8a59a_8f42_11ea_8f93_3ca0676e036erow6_col3\" class=\"data row6 col3\" >-0.107190</td>\n",
       "                        <td id=\"T_e9e8a59a_8f42_11ea_8f93_3ca0676e036erow6_col4\" class=\"data row6 col4\" >-0.074035</td>\n",
       "                        <td id=\"T_e9e8a59a_8f42_11ea_8f93_3ca0676e036erow6_col5\" class=\"data row6 col5\" >-0.130587</td>\n",
       "            </tr>\n",
       "            <tr>\n",
       "                        <th id=\"T_e9e8a59a_8f42_11ea_8f93_3ca0676e036elevel0_row7\" class=\"row_heading level0 row7\" >V236</th>\n",
       "                        <td id=\"T_e9e8a59a_8f42_11ea_8f93_3ca0676e036erow7_col0\" class=\"data row7 col0\" >0.041804</td>\n",
       "                        <td id=\"T_e9e8a59a_8f42_11ea_8f93_3ca0676e036erow7_col1\" class=\"data row7 col1\" >-0.039233</td>\n",
       "                        <td id=\"T_e9e8a59a_8f42_11ea_8f93_3ca0676e036erow7_col2\" class=\"data row7 col2\" >0.766080</td>\n",
       "                        <td id=\"T_e9e8a59a_8f42_11ea_8f93_3ca0676e036erow7_col3\" class=\"data row7 col3\" >0.099614</td>\n",
       "                        <td id=\"T_e9e8a59a_8f42_11ea_8f93_3ca0676e036erow7_col4\" class=\"data row7 col4\" >0.093637</td>\n",
       "                        <td id=\"T_e9e8a59a_8f42_11ea_8f93_3ca0676e036erow7_col5\" class=\"data row7 col5\" >0.034656</td>\n",
       "            </tr>\n",
       "            <tr>\n",
       "                        <th id=\"T_e9e8a59a_8f42_11ea_8f93_3ca0676e036elevel0_row8\" class=\"row_heading level0 row8\" >V237</th>\n",
       "                        <td id=\"T_e9e8a59a_8f42_11ea_8f93_3ca0676e036erow8_col0\" class=\"data row8 col0\" >0.569702</td>\n",
       "                        <td id=\"T_e9e8a59a_8f42_11ea_8f93_3ca0676e036erow8_col1\" class=\"data row8 col1\" >-0.041439</td>\n",
       "                        <td id=\"T_e9e8a59a_8f42_11ea_8f93_3ca0676e036erow8_col2\" class=\"data row8 col2\" >0.131717</td>\n",
       "                        <td id=\"T_e9e8a59a_8f42_11ea_8f93_3ca0676e036erow8_col3\" class=\"data row8 col3\" >-0.243140</td>\n",
       "                        <td id=\"T_e9e8a59a_8f42_11ea_8f93_3ca0676e036erow8_col4\" class=\"data row8 col4\" >0.046889</td>\n",
       "                        <td id=\"T_e9e8a59a_8f42_11ea_8f93_3ca0676e036erow8_col5\" class=\"data row8 col5\" >-0.020569</td>\n",
       "            </tr>\n",
       "            <tr>\n",
       "                        <th id=\"T_e9e8a59a_8f42_11ea_8f93_3ca0676e036elevel0_row9\" class=\"row_heading level0 row9\" >V238</th>\n",
       "                        <td id=\"T_e9e8a59a_8f42_11ea_8f93_3ca0676e036erow9_col0\" class=\"data row9 col0\" >0.813998</td>\n",
       "                        <td id=\"T_e9e8a59a_8f42_11ea_8f93_3ca0676e036erow9_col1\" class=\"data row9 col1\" >-0.170413</td>\n",
       "                        <td id=\"T_e9e8a59a_8f42_11ea_8f93_3ca0676e036erow9_col2\" class=\"data row9 col2\" >-0.002530</td>\n",
       "                        <td id=\"T_e9e8a59a_8f42_11ea_8f93_3ca0676e036erow9_col3\" class=\"data row9 col3\" >-0.060435</td>\n",
       "                        <td id=\"T_e9e8a59a_8f42_11ea_8f93_3ca0676e036erow9_col4\" class=\"data row9 col4\" >0.074967</td>\n",
       "                        <td id=\"T_e9e8a59a_8f42_11ea_8f93_3ca0676e036erow9_col5\" class=\"data row9 col5\" >0.035468</td>\n",
       "            </tr>\n",
       "            <tr>\n",
       "                        <th id=\"T_e9e8a59a_8f42_11ea_8f93_3ca0676e036elevel0_row10\" class=\"row_heading level0 row10\" >V239</th>\n",
       "                        <td id=\"T_e9e8a59a_8f42_11ea_8f93_3ca0676e036erow10_col0\" class=\"data row10 col0\" >-0.786576</td>\n",
       "                        <td id=\"T_e9e8a59a_8f42_11ea_8f93_3ca0676e036erow10_col1\" class=\"data row10 col1\" >0.254161</td>\n",
       "                        <td id=\"T_e9e8a59a_8f42_11ea_8f93_3ca0676e036erow10_col2\" class=\"data row10 col2\" >0.049149</td>\n",
       "                        <td id=\"T_e9e8a59a_8f42_11ea_8f93_3ca0676e036erow10_col3\" class=\"data row10 col3\" >-0.008909</td>\n",
       "                        <td id=\"T_e9e8a59a_8f42_11ea_8f93_3ca0676e036erow10_col4\" class=\"data row10 col4\" >-0.016392</td>\n",
       "                        <td id=\"T_e9e8a59a_8f42_11ea_8f93_3ca0676e036erow10_col5\" class=\"data row10 col5\" >-0.024523</td>\n",
       "            </tr>\n",
       "            <tr>\n",
       "                        <th id=\"T_e9e8a59a_8f42_11ea_8f93_3ca0676e036elevel0_row11\" class=\"row_heading level0 row11\" >V4</th>\n",
       "                        <td id=\"T_e9e8a59a_8f42_11ea_8f93_3ca0676e036erow11_col0\" class=\"data row11 col0\" >-0.018392</td>\n",
       "                        <td id=\"T_e9e8a59a_8f42_11ea_8f93_3ca0676e036erow11_col1\" class=\"data row11 col1\" >-0.004638</td>\n",
       "                        <td id=\"T_e9e8a59a_8f42_11ea_8f93_3ca0676e036erow11_col2\" class=\"data row11 col2\" >0.023128</td>\n",
       "                        <td id=\"T_e9e8a59a_8f42_11ea_8f93_3ca0676e036erow11_col3\" class=\"data row11 col3\" >0.039584</td>\n",
       "                        <td id=\"T_e9e8a59a_8f42_11ea_8f93_3ca0676e036erow11_col4\" class=\"data row11 col4\" >0.839403</td>\n",
       "                        <td id=\"T_e9e8a59a_8f42_11ea_8f93_3ca0676e036erow11_col5\" class=\"data row11 col5\" >-0.142351</td>\n",
       "            </tr>\n",
       "            <tr>\n",
       "                        <th id=\"T_e9e8a59a_8f42_11ea_8f93_3ca0676e036elevel0_row12\" class=\"row_heading level0 row12\" >V102</th>\n",
       "                        <td id=\"T_e9e8a59a_8f42_11ea_8f93_3ca0676e036erow12_col0\" class=\"data row12 col0\" >0.126156</td>\n",
       "                        <td id=\"T_e9e8a59a_8f42_11ea_8f93_3ca0676e036erow12_col1\" class=\"data row12 col1\" >-0.117366</td>\n",
       "                        <td id=\"T_e9e8a59a_8f42_11ea_8f93_3ca0676e036erow12_col2\" class=\"data row12 col2\" >-0.001775</td>\n",
       "                        <td id=\"T_e9e8a59a_8f42_11ea_8f93_3ca0676e036erow12_col3\" class=\"data row12 col3\" >-0.007919</td>\n",
       "                        <td id=\"T_e9e8a59a_8f42_11ea_8f93_3ca0676e036erow12_col4\" class=\"data row12 col4\" >0.780104</td>\n",
       "                        <td id=\"T_e9e8a59a_8f42_11ea_8f93_3ca0676e036erow12_col5\" class=\"data row12 col5\" >0.151409</td>\n",
       "            </tr>\n",
       "            <tr>\n",
       "                        <th id=\"T_e9e8a59a_8f42_11ea_8f93_3ca0676e036elevel0_row13\" class=\"row_heading level0 row13\" >V11</th>\n",
       "                        <td id=\"T_e9e8a59a_8f42_11ea_8f93_3ca0676e036erow13_col0\" class=\"data row13 col0\" >0.215304</td>\n",
       "                        <td id=\"T_e9e8a59a_8f42_11ea_8f93_3ca0676e036erow13_col1\" class=\"data row13 col1\" >-0.527869</td>\n",
       "                        <td id=\"T_e9e8a59a_8f42_11ea_8f93_3ca0676e036erow13_col2\" class=\"data row13 col2\" >0.003759</td>\n",
       "                        <td id=\"T_e9e8a59a_8f42_11ea_8f93_3ca0676e036erow13_col3\" class=\"data row13 col3\" >0.193302</td>\n",
       "                        <td id=\"T_e9e8a59a_8f42_11ea_8f93_3ca0676e036erow13_col4\" class=\"data row13 col4\" >0.121961</td>\n",
       "                        <td id=\"T_e9e8a59a_8f42_11ea_8f93_3ca0676e036erow13_col5\" class=\"data row13 col5\" >0.213149</td>\n",
       "            </tr>\n",
       "            <tr>\n",
       "                        <th id=\"T_e9e8a59a_8f42_11ea_8f93_3ca0676e036elevel0_row14\" class=\"row_heading level0 row14\" >V192</th>\n",
       "                        <td id=\"T_e9e8a59a_8f42_11ea_8f93_3ca0676e036erow14_col0\" class=\"data row14 col0\" >-0.198528</td>\n",
       "                        <td id=\"T_e9e8a59a_8f42_11ea_8f93_3ca0676e036erow14_col1\" class=\"data row14 col1\" >0.462430</td>\n",
       "                        <td id=\"T_e9e8a59a_8f42_11ea_8f93_3ca0676e036erow14_col2\" class=\"data row14 col2\" >0.014038</td>\n",
       "                        <td id=\"T_e9e8a59a_8f42_11ea_8f93_3ca0676e036erow14_col3\" class=\"data row14 col3\" >-0.043777</td>\n",
       "                        <td id=\"T_e9e8a59a_8f42_11ea_8f93_3ca0676e036erow14_col4\" class=\"data row14 col4\" >0.034419</td>\n",
       "                        <td id=\"T_e9e8a59a_8f42_11ea_8f93_3ca0676e036erow14_col5\" class=\"data row14 col5\" >-0.107697</td>\n",
       "            </tr>\n",
       "            <tr>\n",
       "                        <th id=\"T_e9e8a59a_8f42_11ea_8f93_3ca0676e036elevel0_row15\" class=\"row_heading level0 row15\" >V55</th>\n",
       "                        <td id=\"T_e9e8a59a_8f42_11ea_8f93_3ca0676e036erow15_col0\" class=\"data row15 col0\" >-0.035163</td>\n",
       "                        <td id=\"T_e9e8a59a_8f42_11ea_8f93_3ca0676e036erow15_col1\" class=\"data row15 col1\" >0.704940</td>\n",
       "                        <td id=\"T_e9e8a59a_8f42_11ea_8f93_3ca0676e036erow15_col2\" class=\"data row15 col2\" >-0.026522</td>\n",
       "                        <td id=\"T_e9e8a59a_8f42_11ea_8f93_3ca0676e036erow15_col3\" class=\"data row15 col3\" >0.126538</td>\n",
       "                        <td id=\"T_e9e8a59a_8f42_11ea_8f93_3ca0676e036erow15_col4\" class=\"data row15 col4\" >-0.146676</td>\n",
       "                        <td id=\"T_e9e8a59a_8f42_11ea_8f93_3ca0676e036erow15_col5\" class=\"data row15 col5\" >-0.017025</td>\n",
       "            </tr>\n",
       "            <tr>\n",
       "                        <th id=\"T_e9e8a59a_8f42_11ea_8f93_3ca0676e036elevel0_row16\" class=\"row_heading level0 row16\" >V233</th>\n",
       "                        <td id=\"T_e9e8a59a_8f42_11ea_8f93_3ca0676e036erow16_col0\" class=\"data row16 col0\" >-0.033168</td>\n",
       "                        <td id=\"T_e9e8a59a_8f42_11ea_8f93_3ca0676e036erow16_col1\" class=\"data row16 col1\" >0.556680</td>\n",
       "                        <td id=\"T_e9e8a59a_8f42_11ea_8f93_3ca0676e036erow16_col2\" class=\"data row16 col2\" >-0.158762</td>\n",
       "                        <td id=\"T_e9e8a59a_8f42_11ea_8f93_3ca0676e036erow16_col3\" class=\"data row16 col3\" >0.100335</td>\n",
       "                        <td id=\"T_e9e8a59a_8f42_11ea_8f93_3ca0676e036erow16_col4\" class=\"data row16 col4\" >0.029720</td>\n",
       "                        <td id=\"T_e9e8a59a_8f42_11ea_8f93_3ca0676e036erow16_col5\" class=\"data row16 col5\" >0.233853</td>\n",
       "            </tr>\n",
       "    </tbody></table>"
      ],
      "text/plain": [
       "<pandas.io.formats.style.Styler at 0x150b8cd29c8>"
      ]
     },
     "execution_count": 18,
     "metadata": {},
     "output_type": "execute_result"
    }
   ],
   "source": [
    "factor_df = factor_df.drop(['V59', 'V121', 'V49'], axis=1)\n",
    "fa = FactorAnalyzer(n_factors=6, method='principal',rotation='varimax')\n",
    "fa.fit(factor_df)\n",
    "loadings = fa.loadings_\n",
    "\n",
    "loadings_df = pd.DataFrame(loadings)\n",
    "loadings_df = loadings_df.set_index(factor_df.columns)\n",
    "\n",
    "loadings_df = loadings_df.style.applymap(color_loading)\n",
    "loadings_df"
   ]
  },
  {
   "cell_type": "markdown",
   "metadata": {},
   "source": [
    "Now I am going to add factor scores to the dataset and remove the columns that were used to create the scores"
   ]
  },
  {
   "cell_type": "code",
   "execution_count": 19,
   "metadata": {},
   "outputs": [],
   "source": [
    "# Get factor scores from the fit above\n",
    "factor_scores = pd.DataFrame(fa.transform(factor_df))\n",
    "# name the factors based on the variables that loaded into the values above\n",
    "factor_scores.columns = ['Income_f', 'Health_Independence_f', 'Employement_f', 'Money_Concern_f','Family_f', 'Income_Equality_f' ]\n",
    "\n",
    "#drop columns that went into factors\n",
    "drop_columns = list(loadings_df.index.values)\n",
    "model_df = model_df.drop(drop_columns, axis=1)\n",
    "\n",
    "# add factors to the dataset\n",
    "model_df = pd.concat([model_df, factor_scores],axis=1,sort=False)"
   ]
  },
  {
   "cell_type": "markdown",
   "metadata": {},
   "source": [
    "## Model Building ##"
   ]
  },
  {
   "cell_type": "code",
   "execution_count": 20,
   "metadata": {},
   "outputs": [
    {
     "name": "stdout",
     "output_type": "stream",
     "text": [
      "Training data shapes (1662, 143) (1662,)\n",
      "Testing data shapes (554, 143) (554,)\n"
     ]
    }
   ],
   "source": [
    "# Create train data and test data\n",
    "x_train, x_test, y_train, y_test = train_test_split(model_df, target, train_size=0.75)\n",
    "print(\"Training data shapes\", x_train.shape, y_train.shape)\n",
    "print(\"Testing data shapes\", x_test.shape, y_test.shape)"
   ]
  },
  {
   "cell_type": "markdown",
   "metadata": {},
   "source": [
    " ### What features are important for the predictor? ### \n",
    "When running the above feature importance we get these ten values as being the most important predictors for the random forest model."
   ]
  },
  {
   "cell_type": "code",
   "execution_count": 21,
   "metadata": {},
   "outputs": [
    {
     "data": {
      "text/plain": [
       "RandomForestRegressor(bootstrap=True, ccp_alpha=0.0, criterion='mse',\n",
       "                      max_depth=None, max_features='auto', max_leaf_nodes=None,\n",
       "                      max_samples=None, min_impurity_decrease=0.0,\n",
       "                      min_impurity_split=None, min_samples_leaf=1,\n",
       "                      min_samples_split=2, min_weight_fraction_leaf=0.0,\n",
       "                      n_estimators=100, n_jobs=None, oob_score=False,\n",
       "                      random_state=None, verbose=0, warm_start=False)"
      ]
     },
     "execution_count": 21,
     "metadata": {},
     "output_type": "execute_result"
    }
   ],
   "source": [
    "# Training the Model\n",
    "rf_model = RandomForestRegressor(n_estimators=100)\n",
    "rf_model.fit(x_train, y_train)"
   ]
  },
  {
   "cell_type": "code",
   "execution_count": 22,
   "metadata": {},
   "outputs": [
    {
     "data": {
      "text/html": [
       "<div>\n",
       "<style scoped>\n",
       "    .dataframe tbody tr th:only-of-type {\n",
       "        vertical-align: middle;\n",
       "    }\n",
       "\n",
       "    .dataframe tbody tr th {\n",
       "        vertical-align: top;\n",
       "    }\n",
       "\n",
       "    .dataframe thead th {\n",
       "        text-align: right;\n",
       "    }\n",
       "</style>\n",
       "<table border=\"1\" class=\"dataframe\">\n",
       "  <thead>\n",
       "    <tr style=\"text-align: right;\">\n",
       "      <th></th>\n",
       "      <th>Gini-importance</th>\n",
       "    </tr>\n",
       "  </thead>\n",
       "  <tbody>\n",
       "    <tr>\n",
       "      <th>V59</th>\n",
       "      <td>0.255939</td>\n",
       "    </tr>\n",
       "    <tr>\n",
       "      <th>Health_Independence_f</th>\n",
       "      <td>0.126155</td>\n",
       "    </tr>\n",
       "    <tr>\n",
       "      <th>Family_f</th>\n",
       "      <td>0.067105</td>\n",
       "    </tr>\n",
       "    <tr>\n",
       "      <th>Employement_f</th>\n",
       "      <td>0.019981</td>\n",
       "    </tr>\n",
       "    <tr>\n",
       "      <th>Income_Equality_f</th>\n",
       "      <td>0.019904</td>\n",
       "    </tr>\n",
       "    <tr>\n",
       "      <th>Income_f</th>\n",
       "      <td>0.019519</td>\n",
       "    </tr>\n",
       "    <tr>\n",
       "      <th>V56</th>\n",
       "      <td>0.017705</td>\n",
       "    </tr>\n",
       "    <tr>\n",
       "      <th>V242</th>\n",
       "      <td>0.017238</td>\n",
       "    </tr>\n",
       "    <tr>\n",
       "      <th>Money_Concern_f</th>\n",
       "      <td>0.016458</td>\n",
       "    </tr>\n",
       "    <tr>\n",
       "      <th>V249</th>\n",
       "      <td>0.014103</td>\n",
       "    </tr>\n",
       "  </tbody>\n",
       "</table>\n",
       "</div>"
      ],
      "text/plain": [
       "                       Gini-importance\n",
       "V59                           0.255939\n",
       "Health_Independence_f         0.126155\n",
       "Family_f                      0.067105\n",
       "Employement_f                 0.019981\n",
       "Income_Equality_f             0.019904\n",
       "Income_f                      0.019519\n",
       "V56                           0.017705\n",
       "V242                          0.017238\n",
       "Money_Concern_f               0.016458\n",
       "V249                          0.014103"
      ]
     },
     "execution_count": 22,
     "metadata": {},
     "output_type": "execute_result"
    }
   ],
   "source": [
    "# a blank dictionary to hold feature_name: feature_importance\n",
    "feats = {} \n",
    "#create dictionary\n",
    "for feature, importance in zip(x_train.columns, rf_model.feature_importances_):\n",
    "    feats[feature] = importance #add the key and value\n",
    "\n",
    "# turn importances to dataframe and sort by importance\n",
    "importances = pd.DataFrame.from_dict(feats, orient='index').rename(columns={0: 'Gini-importance'})\n",
    "importances = importances.sort_values(by='Gini-importance', ascending=False)\n",
    "\n",
    "importances.head(10)"
   ]
  },
  {
   "cell_type": "markdown",
   "metadata": {},
   "source": [
    "### Permutation Importance ###\n",
    "I found another measure of feature importance for testing which variables are important in predicting variable V23(life satisfaction). This code came from https://scikit-learn.org/stable/auto_examples/inspection/plot_permutation_importance.html#sphx-glr-auto-examples-inspection-plot-permutation-importance-py\n",
    "\n",
    "https://www.youtube.com/watch?v=ttBs_wfw_6U"
   ]
  },
  {
   "cell_type": "code",
   "execution_count": 23,
   "metadata": {},
   "outputs": [],
   "source": [
    "from sklearn.inspection import permutation_importance\n",
    "\n",
    "result = permutation_importance(rf_model, x_test, y_test, n_repeats=10, random_state=42, n_jobs=2)\n",
    "sorted_idx = result.importances_mean.argsort()\n",
    "top10 = sorted_idx[:10]"
   ]
  },
  {
   "cell_type": "code",
   "execution_count": 24,
   "metadata": {},
   "outputs": [
    {
     "data": {
      "image/png": "[encoded data removed]",
      "text/plain": [
       "<Figure size 432x288 with 1 Axes>"
      ]
     },
     "metadata": {
      "needs_background": "light"
     },
     "output_type": "display_data"
    }
   ],
   "source": [
    "#Graph for Permutation Importance\n",
    "fig, ax = plt.subplots()\n",
    "ax.boxplot(result.importances[top10].T, vert=False, labels=x_test.columns[top10])\n",
    "ax.set_title(\"Permutation Importances (test set)\")\n",
    "fig.tight_layout()\n",
    "plt.show()"
   ]
  },
  {
   "cell_type": "markdown",
   "metadata": {},
   "source": [
    "### Random Forest Model ###\n",
    "Now that I have selected features, I am going to create a random forest model to predict V23. One of the models is just going to use the top ten predictors and one is going to be a black box model of all the variables."
   ]
  },
  {
   "cell_type": "code",
   "execution_count": 25,
   "metadata": {},
   "outputs": [
    {
     "data": {
      "text/plain": [
       "RandomForestRegressor(bootstrap=True, ccp_alpha=0.0, criterion='mse',\n",
       "                      max_depth=None, max_features='auto', max_leaf_nodes=None,\n",
       "                      max_samples=None, min_impurity_decrease=0.0,\n",
       "                      min_impurity_split=None, min_samples_leaf=1,\n",
       "                      min_samples_split=2, min_weight_fraction_leaf=0.0,\n",
       "                      n_estimators=100, n_jobs=None, oob_score=False,\n",
       "                      random_state=None, verbose=0, warm_start=False)"
      ]
     },
     "execution_count": 25,
     "metadata": {},
     "output_type": "execute_result"
    }
   ],
   "source": [
    "# Training the blackbox model\n",
    "rf_model_all = RandomForestRegressor(n_estimators=100)\n",
    "rf_model_all.fit(x_train, y_train)"
   ]
  },
  {
   "cell_type": "code",
   "execution_count": 26,
   "metadata": {},
   "outputs": [
    {
     "data": {
      "text/plain": [
       "RandomForestRegressor(bootstrap=True, ccp_alpha=0.0, criterion='mse',\n",
       "                      max_depth=None, max_features='auto', max_leaf_nodes=None,\n",
       "                      max_samples=None, min_impurity_decrease=0.0,\n",
       "                      min_impurity_split=None, min_samples_leaf=1,\n",
       "                      min_samples_split=2, min_weight_fraction_leaf=0.0,\n",
       "                      n_estimators=100, n_jobs=None, oob_score=False,\n",
       "                      random_state=None, verbose=0, warm_start=False)"
      ]
     },
     "execution_count": 26,
     "metadata": {},
     "output_type": "execute_result"
    }
   ],
   "source": [
    "top10_list = list(importances.index.values[0:10])\n",
    "top10_model_df = model_df[top10_list]\n",
    "# Create train data and test data\n",
    "x_train2, x_test2, y_train2, y_test2 = train_test_split(top10_model_df, target, train_size=0.75)\n",
    "\n",
    "# Training the Model\n",
    "rf_model = RandomForestRegressor(n_estimators=100)\n",
    "rf_model.fit(x_train2, y_train2)"
   ]
  },
  {
   "cell_type": "markdown",
   "metadata": {},
   "source": [
    "### Logistic Regression Model ### \n",
    "I am going to classify V23 into three separate categories, unsatisfied, neutral, and satisfied with life. Then I am going to make a logistic regression model to predict these categories using the top 10 variables from before since logistic can't run a blackbox model."
   ]
  },
  {
   "cell_type": "code",
   "execution_count": 27,
   "metadata": {},
   "outputs": [
    {
     "data": {
      "text/plain": [
       "Text(0.5, 1.0, 'Histogram of V23')"
      ]
     },
     "execution_count": 27,
     "metadata": {},
     "output_type": "execute_result"
    },
    {
     "data": {
      "image/png": "[encoded data removed]",
      "text/plain": [
       "<Figure size 432x288 with 1 Axes>"
      ]
     },
     "metadata": {
      "needs_background": "light"
     },
     "output_type": "display_data"
    }
   ],
   "source": [
    "ax = sns.countplot(x=\"V23\", data=df, color='green')\n",
    "plt.xlabel('Satisfaction Score')\n",
    "plt.ylabel('Frequency')\n",
    "plt.title('Histogram of V23')"
   ]
  },
  {
   "cell_type": "code",
   "execution_count": 28,
   "metadata": {},
   "outputs": [
    {
     "data": {
      "text/plain": [
       "'V23'"
      ]
     },
     "execution_count": 28,
     "metadata": {},
     "output_type": "execute_result"
    }
   ],
   "source": [
    "binned_target = target.copy(deep=True)\n",
    "\n",
    "binned_target.loc[(binned_target<6)] = 0\n",
    "binned_target.loc[(binned_target>=6) & (binned_target<=8)] = 1\n",
    "binned_target.loc[(binned_target>8)] = 2\n",
    "binned_target.name"
   ]
  },
  {
   "cell_type": "code",
   "execution_count": 29,
   "metadata": {},
   "outputs": [
    {
     "data": {
      "text/plain": [
       "Text(0.5, 1.0, 'Histogram of Binned V23')"
      ]
     },
     "execution_count": 29,
     "metadata": {},
     "output_type": "execute_result"
    },
    {
     "data": {
      "image/png": "[encoded data removed]",
      "text/plain": [
       "<Figure size 432x288 with 1 Axes>"
      ]
     },
     "metadata": {
      "needs_background": "light"
     },
     "output_type": "display_data"
    }
   ],
   "source": [
    "ax = sns.countplot(x=binned_target, color='green')\n",
    "plt.xlabel('Satisfaction Score')\n",
    "plt.ylabel('Frequency')\n",
    "plt.title('Histogram of Binned V23')"
   ]
  },
  {
   "cell_type": "code",
   "execution_count": 30,
   "metadata": {},
   "outputs": [],
   "source": [
    "x_train3, x_test3, y_train3, y_test3 = train_test_split(top10_model_df, binned_target, train_size=0.75)\n",
    "\n",
    "logistic_model = LogisticRegression(max_iter=1000).fit(x_train3, y_train3)"
   ]
  },
  {
   "cell_type": "markdown",
   "metadata": {},
   "source": [
    "## Accuracy ##\n",
    "Now that the models are trained I am going to run them on the testing datasets and see how they perform. "
   ]
  },
  {
   "cell_type": "code",
   "execution_count": 34,
   "metadata": {},
   "outputs": [
    {
     "name": "stdout",
     "output_type": "stream",
     "text": [
      "Confusion Matrix :\n",
      "[[ 0  0  1  1  1  1  0  0  1  0]\n",
      " [ 0  0  0  1  4  1  2  1  1  0]\n",
      " [ 0  0  0  1  1  4  3  2  1  0]\n",
      " [ 0  0  0  1  6  8  3  0  0  0]\n",
      " [ 0  0  0  2  7 11  7  5  1  0]\n",
      " [ 0  0  0  1  2 15 14  7  0  0]\n",
      " [ 0  0  0  2  5 20 36 35  1  0]\n",
      " [ 0  0  0  0  1 23 43 81 18  0]\n",
      " [ 0  0  0  0  0  4 14 60 39  0]\n",
      " [ 0  0  0  0  0  3  8 15 26  3]]\n",
      "Accuracy Score : 0.3285198555956679\n",
      "Report : \n",
      "              precision    recall  f1-score   support\n",
      "\n",
      "           1       0.00      0.00      0.00         5\n",
      "           2       0.00      0.00      0.00        10\n",
      "           3       0.00      0.00      0.00        12\n",
      "           4       0.11      0.06      0.07        18\n",
      "           5       0.26      0.21      0.23        33\n",
      "           6       0.17      0.38      0.23        39\n",
      "           7       0.28      0.36      0.31        99\n",
      "           8       0.39      0.49      0.44       166\n",
      "           9       0.44      0.33      0.38       117\n",
      "          10       1.00      0.05      0.10        55\n",
      "\n",
      "    accuracy                           0.33       554\n",
      "   macro avg       0.27      0.19      0.18       554\n",
      "weighted avg       0.39      0.33      0.31       554\n",
      "\n"
     ]
    },
    {
     "name": "stderr",
     "output_type": "stream",
     "text": [
      "C:\\Users\\Hawkin Saeger\\Anaconda3\\envs\\independent_study\\lib\\site-packages\\sklearn\\metrics\\_classification.py:1272: UndefinedMetricWarning:\n",
      "\n",
      "Precision and F-score are ill-defined and being set to 0.0 in labels with no predicted samples. Use `zero_division` parameter to control this behavior.\n",
      "\n"
     ]
    },
    {
     "data": {
      "image/png": "[encoded data removed]",
      "text/plain": [
       "<Figure size 720x504 with 2 Axes>"
      ]
     },
     "metadata": {
      "needs_background": "light"
     },
     "output_type": "display_data"
    },
    {
     "name": "stdout",
     "output_type": "stream",
     "text": [
      "Confusion Matrix :\n",
      "[[ 0  0  2  0  0  0  3  0  0  0]\n",
      " [ 0  0  0  0  3  1  1  1  2  0]\n",
      " [ 0  0  2  0  5  2  4  1  0  0]\n",
      " [ 0  0  1  2  4 10  7  1  1  0]\n",
      " [ 0  0  0  4  6 12 12  3  1  0]\n",
      " [ 0  0  0  0  1  7 13  8  0  0]\n",
      " [ 0  0  0  0  3 15 34 33  3  0]\n",
      " [ 0  0  0  0  2 17 58 84 22  0]\n",
      " [ 0  0  0  0  0  2 19 51 32  4]\n",
      " [ 0  0  0  0  0  1  6 17 24  7]]\n",
      "Accuracy Score : 0.3140794223826715\n",
      "Report : \n",
      "              precision    recall  f1-score   support\n",
      "\n",
      "           1       0.00      0.00      0.00         5\n",
      "           2       0.00      0.00      0.00         8\n",
      "           3       0.40      0.14      0.21        14\n",
      "           4       0.33      0.08      0.12        26\n",
      "           5       0.25      0.16      0.19        38\n",
      "           6       0.10      0.24      0.15        29\n",
      "           7       0.22      0.39      0.28        88\n",
      "           8       0.42      0.46      0.44       183\n",
      "           9       0.38      0.30      0.33       108\n",
      "          10       0.64      0.13      0.21        55\n",
      "\n",
      "    accuracy                           0.31       554\n",
      "   macro avg       0.27      0.19      0.19       554\n",
      "weighted avg       0.36      0.31      0.31       554\n",
      "\n"
     ]
    },
    {
     "name": "stderr",
     "output_type": "stream",
     "text": [
      "C:\\Users\\Hawkin Saeger\\Anaconda3\\envs\\independent_study\\lib\\site-packages\\sklearn\\metrics\\_classification.py:1272: UndefinedMetricWarning:\n",
      "\n",
      "Precision and F-score are ill-defined and being set to 0.0 in labels with no predicted samples. Use `zero_division` parameter to control this behavior.\n",
      "\n"
     ]
    },
    {
     "data": {
      "image/png": "[encoded data removed]",
      "text/plain": [
       "<Figure size 720x504 with 2 Axes>"
      ]
     },
     "metadata": {
      "needs_background": "light"
     },
     "output_type": "display_data"
    },
    {
     "name": "stdout",
     "output_type": "stream",
     "text": [
      "Confusion Matrix :\n",
      "[[ 30  46   2]\n",
      " [ 18 269  33]\n",
      " [  1  73  82]]\n",
      "Accuracy Score : 0.6877256317689531\n",
      "Report : \n",
      "              precision    recall  f1-score   support\n",
      "\n",
      "           0       0.61      0.38      0.47        78\n",
      "           1       0.69      0.84      0.76       320\n",
      "           2       0.70      0.53      0.60       156\n",
      "\n",
      "    accuracy                           0.69       554\n",
      "   macro avg       0.67      0.58      0.61       554\n",
      "weighted avg       0.68      0.69      0.67       554\n",
      "\n"
     ]
    },
    {
     "data": {
      "image/png": "[encoded data removed]",
      "text/plain": [
       "<Figure size 720x504 with 2 Axes>"
      ]
     },
     "metadata": {
      "needs_background": "light"
     },
     "output_type": "display_data"
    }
   ],
   "source": [
    "# Random Forest Blackbox\n",
    "def accuracy_check(model, test, actual):\n",
    "    # get predictions\n",
    "    predicted = model.predict(test)\n",
    "    #round before converting\n",
    "    predicted = np.around(predicted)\n",
    "    #convert from float to int\n",
    "    predicted = predicted.astype(int)\n",
    "\n",
    "    # get confusion matrix\n",
    "    results = confusion_matrix(actual, predicted)\n",
    "    print('Confusion Matrix :')\n",
    "    print(results) \n",
    "    print('Accuracy Score :',accuracy_score(actual, predicted))\n",
    "    print('Report : ')\n",
    "    print(classification_report(actual, predicted)) \n",
    "    plt.figure(figsize = (10,7))\n",
    "    ticks = np.arange(1,len(results)+1,1)\n",
    "    sns.heatmap(results, annot=True, xticklabels=ticks, yticklabels=ticks, fmt='g')\n",
    "    plt.suptitle(\"Confusion Matrix for Model\")\n",
    "    plt.xlabel('Predicted')\n",
    "    plt.ylabel('Actual')\n",
    "    plt.show()\n",
    "    \n",
    "# Random Forest Blackbox:\n",
    "accuracy_check(rf_model_all, x_test, y_test)\n",
    "#Random Forest Top 10\n",
    "accuracy_check(rf_model, x_test2, y_test2)\n",
    "accuracy_check(logistic_model, x_test3, y_test3)"
   ]
  },
  {
   "cell_type": "code",
   "execution_count": null,
   "metadata": {},
   "outputs": [],
   "source": []
  }
 ],
 "metadata": {
  "kernelspec": {
   "display_name": "Python 3",
   "language": "python",
   "name": "python3"
  },
  "language_info": {
   "codemirror_mode": {
    "name": "ipython",
    "version": 3
   },
   "file_extension": ".py",
   "mimetype": "text/x-python",
   "name": "python",
   "nbconvert_exporter": "python",
   "pygments_lexer": "ipython3",
   "version": "3.7.6"
  }
 },
 "nbformat": 4,
 "nbformat_minor": 4
}
